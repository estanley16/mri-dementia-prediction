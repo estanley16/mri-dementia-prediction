{
  "nbformat": 4,
  "nbformat_minor": 0,
  "metadata": {
    "colab": {
      "name": "MRI_Dementia_Prediction.ipynb",
      "provenance": [],
      "collapsed_sections": [],
      "mount_file_id": "1Nti0G88ovOTzonVKRXTAfqXcbh6MCLO1",
      "authorship_tag": "ABX9TyPWmoTIE/gZmPlfkboEjtwH"
    },
    "kernelspec": {
      "name": "python3",
      "display_name": "Python 3"
    }
  },
  "cells": [
    {
      "cell_type": "markdown",
      "metadata": {
        "id": "x3iO4fuRHypQ",
        "colab_type": "text"
      },
      "source": [
        "\n",
        "Cross-sectional MRI Data in Young, Middle Aged, Nondemented and Demented Older Adults: This set consists of a cross-sectional collection of 416 subjects aged 18 to 96. For each subject, 3 or 4 individual T1-weighted MRI scans obtained in single scan sessions are included. The subjects are all right-handed and include both men and women. 100 of the included subjects over the age of 60 have been clinically diagnosed with very mild to moderate Alzheimer’s disease (AD). Additionally, a reliability data set is included containing 20 nondemented subjects imaged on a subsequent visit within 90 days of their initial session.\n"
      ]
    },
    {
      "cell_type": "markdown",
      "metadata": {
        "id": "oLbpj9NsIGSg",
        "colab_type": "text"
      },
      "source": [
        "Context:\n",
        "The Open Access Series of Imaging Studies (OASIS) is a project aimed at making MRI data sets of the brain freely available to the scientific community. By compiling and freely distributing MRI data sets, we hope to facilitate future discoveries in basic and clinical neuroscience. OASIS is made available by the Washington University Alzheimer’s Disease Research Center, Dr. Randy Buckner at the Howard Hughes Medical Institute (HHMI)( at Harvard University, the Neuroinformatics Research Group (NRG) at Washington University School of Medicine, and the Biomedical Informatics Research Network (BIRN).\n"
      ]
    },
    {
      "cell_type": "markdown",
      "metadata": {
        "id": "VnrAo4gdIBL9",
        "colab_type": "text"
      },
      "source": [
        "Data: \n",
        "\n",
        "\n",
        "*   ID: Identification (cat)\n",
        "*   M/F: Gender (cat)\n",
        "*   Hand: Dominant Hand (cat: R or L)\n",
        "*   Age: Age in Years (num)\n",
        "*   Educ: Education Level (cat: 1-5)\n",
        "*   SES: Socioeconomic status (cat: 1-5)\n",
        "*   MMSE: Mini Mental State Evaluation (num)\n",
        "*   CDR: Clinical Dementia Rating (cat: 0-2)\n",
        "*   eTIV: Estimated Total Intercranial Volume (num)\n",
        "*   nWBV: Normalized Whole Brain Volume (num)\n",
        "*   ATS: Atlas Scaling Factor (num)\n",
        "*   Delay: ?\n",
        "\n",
        "\n",
        "\n",
        "\n",
        "\n",
        "\n",
        "\n",
        "\n",
        "\n",
        "\n"
      ]
    },
    {
      "cell_type": "code",
      "metadata": {
        "id": "aNQjru6vIv-z",
        "colab_type": "code",
        "colab": {}
      },
      "source": [
        "import numpy as np\n",
        "import pandas as pd\n",
        "import matplotlib.pyplot as plt\n",
        "import seaborn as sns"
      ],
      "execution_count": 151,
      "outputs": []
    },
    {
      "cell_type": "markdown",
      "metadata": {
        "id": "gw-Cns_CIzcL",
        "colab_type": "text"
      },
      "source": [
        "##Exploratory Data Analysis"
      ]
    },
    {
      "cell_type": "code",
      "metadata": {
        "id": "Brb2--zjIyoY",
        "colab_type": "code",
        "colab": {
          "base_uri": "https://localhost:8080/",
          "height": 204
        },
        "outputId": "423736c4-c120-44d5-baec-86c89c527397"
      },
      "source": [
        "cross_sec_filepath= '/content/drive/My Drive/data for colab/mri and alzheimers/datasets_1980_3398_oasis_cross-sectional.csv'\n",
        "raw_data=pd.read_csv(cross_sec_filepath)\n",
        "raw_data.head()"
      ],
      "execution_count": 152,
      "outputs": [
        {
          "output_type": "execute_result",
          "data": {
            "text/html": [
              "<div>\n",
              "<style scoped>\n",
              "    .dataframe tbody tr th:only-of-type {\n",
              "        vertical-align: middle;\n",
              "    }\n",
              "\n",
              "    .dataframe tbody tr th {\n",
              "        vertical-align: top;\n",
              "    }\n",
              "\n",
              "    .dataframe thead th {\n",
              "        text-align: right;\n",
              "    }\n",
              "</style>\n",
              "<table border=\"1\" class=\"dataframe\">\n",
              "  <thead>\n",
              "    <tr style=\"text-align: right;\">\n",
              "      <th></th>\n",
              "      <th>ID</th>\n",
              "      <th>M/F</th>\n",
              "      <th>Hand</th>\n",
              "      <th>Age</th>\n",
              "      <th>Educ</th>\n",
              "      <th>SES</th>\n",
              "      <th>MMSE</th>\n",
              "      <th>CDR</th>\n",
              "      <th>eTIV</th>\n",
              "      <th>nWBV</th>\n",
              "      <th>ASF</th>\n",
              "      <th>Delay</th>\n",
              "    </tr>\n",
              "  </thead>\n",
              "  <tbody>\n",
              "    <tr>\n",
              "      <th>0</th>\n",
              "      <td>OAS1_0001_MR1</td>\n",
              "      <td>F</td>\n",
              "      <td>R</td>\n",
              "      <td>74</td>\n",
              "      <td>2.0</td>\n",
              "      <td>3.0</td>\n",
              "      <td>29.0</td>\n",
              "      <td>0.0</td>\n",
              "      <td>1344</td>\n",
              "      <td>0.743</td>\n",
              "      <td>1.306</td>\n",
              "      <td>NaN</td>\n",
              "    </tr>\n",
              "    <tr>\n",
              "      <th>1</th>\n",
              "      <td>OAS1_0002_MR1</td>\n",
              "      <td>F</td>\n",
              "      <td>R</td>\n",
              "      <td>55</td>\n",
              "      <td>4.0</td>\n",
              "      <td>1.0</td>\n",
              "      <td>29.0</td>\n",
              "      <td>0.0</td>\n",
              "      <td>1147</td>\n",
              "      <td>0.810</td>\n",
              "      <td>1.531</td>\n",
              "      <td>NaN</td>\n",
              "    </tr>\n",
              "    <tr>\n",
              "      <th>2</th>\n",
              "      <td>OAS1_0003_MR1</td>\n",
              "      <td>F</td>\n",
              "      <td>R</td>\n",
              "      <td>73</td>\n",
              "      <td>4.0</td>\n",
              "      <td>3.0</td>\n",
              "      <td>27.0</td>\n",
              "      <td>0.5</td>\n",
              "      <td>1454</td>\n",
              "      <td>0.708</td>\n",
              "      <td>1.207</td>\n",
              "      <td>NaN</td>\n",
              "    </tr>\n",
              "    <tr>\n",
              "      <th>3</th>\n",
              "      <td>OAS1_0004_MR1</td>\n",
              "      <td>M</td>\n",
              "      <td>R</td>\n",
              "      <td>28</td>\n",
              "      <td>NaN</td>\n",
              "      <td>NaN</td>\n",
              "      <td>NaN</td>\n",
              "      <td>NaN</td>\n",
              "      <td>1588</td>\n",
              "      <td>0.803</td>\n",
              "      <td>1.105</td>\n",
              "      <td>NaN</td>\n",
              "    </tr>\n",
              "    <tr>\n",
              "      <th>4</th>\n",
              "      <td>OAS1_0005_MR1</td>\n",
              "      <td>M</td>\n",
              "      <td>R</td>\n",
              "      <td>18</td>\n",
              "      <td>NaN</td>\n",
              "      <td>NaN</td>\n",
              "      <td>NaN</td>\n",
              "      <td>NaN</td>\n",
              "      <td>1737</td>\n",
              "      <td>0.848</td>\n",
              "      <td>1.010</td>\n",
              "      <td>NaN</td>\n",
              "    </tr>\n",
              "  </tbody>\n",
              "</table>\n",
              "</div>"
            ],
            "text/plain": [
              "              ID M/F Hand  Age  Educ  SES  MMSE  CDR  eTIV   nWBV    ASF  Delay\n",
              "0  OAS1_0001_MR1   F    R   74   2.0  3.0  29.0  0.0  1344  0.743  1.306    NaN\n",
              "1  OAS1_0002_MR1   F    R   55   4.0  1.0  29.0  0.0  1147  0.810  1.531    NaN\n",
              "2  OAS1_0003_MR1   F    R   73   4.0  3.0  27.0  0.5  1454  0.708  1.207    NaN\n",
              "3  OAS1_0004_MR1   M    R   28   NaN  NaN   NaN  NaN  1588  0.803  1.105    NaN\n",
              "4  OAS1_0005_MR1   M    R   18   NaN  NaN   NaN  NaN  1737  0.848  1.010    NaN"
            ]
          },
          "metadata": {
            "tags": []
          },
          "execution_count": 152
        }
      ]
    },
    {
      "cell_type": "code",
      "metadata": {
        "id": "3w3xtomKJtUt",
        "colab_type": "code",
        "colab": {
          "base_uri": "https://localhost:8080/",
          "height": 340
        },
        "outputId": "d16187cd-b773-46bb-9313-8d0859a33826"
      },
      "source": [
        "raw_data.info()"
      ],
      "execution_count": 153,
      "outputs": [
        {
          "output_type": "stream",
          "text": [
            "<class 'pandas.core.frame.DataFrame'>\n",
            "RangeIndex: 436 entries, 0 to 435\n",
            "Data columns (total 12 columns):\n",
            " #   Column  Non-Null Count  Dtype  \n",
            "---  ------  --------------  -----  \n",
            " 0   ID      436 non-null    object \n",
            " 1   M/F     436 non-null    object \n",
            " 2   Hand    436 non-null    object \n",
            " 3   Age     436 non-null    int64  \n",
            " 4   Educ    235 non-null    float64\n",
            " 5   SES     216 non-null    float64\n",
            " 6   MMSE    235 non-null    float64\n",
            " 7   CDR     235 non-null    float64\n",
            " 8   eTIV    436 non-null    int64  \n",
            " 9   nWBV    436 non-null    float64\n",
            " 10  ASF     436 non-null    float64\n",
            " 11  Delay   20 non-null     float64\n",
            "dtypes: float64(7), int64(2), object(3)\n",
            "memory usage: 41.0+ KB\n"
          ],
          "name": "stdout"
        }
      ]
    },
    {
      "cell_type": "code",
      "metadata": {
        "id": "JCYrE047KHxz",
        "colab_type": "code",
        "colab": {
          "base_uri": "https://localhost:8080/",
          "height": 238
        },
        "outputId": "a21c4392-a943-4420-dac7-5df20f695a38"
      },
      "source": [
        "#check for null values\n",
        "raw_data.isnull().sum()"
      ],
      "execution_count": 154,
      "outputs": [
        {
          "output_type": "execute_result",
          "data": {
            "text/plain": [
              "ID         0\n",
              "M/F        0\n",
              "Hand       0\n",
              "Age        0\n",
              "Educ     201\n",
              "SES      220\n",
              "MMSE     201\n",
              "CDR      201\n",
              "eTIV       0\n",
              "nWBV       0\n",
              "ASF        0\n",
              "Delay    416\n",
              "dtype: int64"
            ]
          },
          "metadata": {
            "tags": []
          },
          "execution_count": 154
        }
      ]
    },
    {
      "cell_type": "code",
      "metadata": {
        "id": "s0nfYQ8r348g",
        "colab_type": "code",
        "colab": {
          "base_uri": "https://localhost:8080/",
          "height": 34
        },
        "outputId": "5a84858d-d380-4b13-e754-9b111d424545"
      },
      "source": [
        "raw_data.CDR.unique()"
      ],
      "execution_count": 155,
      "outputs": [
        {
          "output_type": "execute_result",
          "data": {
            "text/plain": [
              "array([0. , 0.5, nan, 1. , 2. ])"
            ]
          },
          "metadata": {
            "tags": []
          },
          "execution_count": 155
        }
      ]
    },
    {
      "cell_type": "markdown",
      "metadata": {
        "id": "7OPzPlpr35s4",
        "colab_type": "text"
      },
      "source": [
        "CDR is the target variable, which contains 4 classes (0, 0.5, 1, 2). There are only 235 non-null CDR values, therefore only these data will be used to train and validate the model. Later, we could predict CDR in the remaining data, but with no validation. "
      ]
    },
    {
      "cell_type": "code",
      "metadata": {
        "id": "YsXfvA0tKSfV",
        "colab_type": "code",
        "colab": {
          "base_uri": "https://localhost:8080/",
          "height": 297
        },
        "outputId": "5265df80-2755-417d-b8d1-15e92fecd005"
      },
      "source": [
        "raw_data.describe()"
      ],
      "execution_count": 156,
      "outputs": [
        {
          "output_type": "execute_result",
          "data": {
            "text/html": [
              "<div>\n",
              "<style scoped>\n",
              "    .dataframe tbody tr th:only-of-type {\n",
              "        vertical-align: middle;\n",
              "    }\n",
              "\n",
              "    .dataframe tbody tr th {\n",
              "        vertical-align: top;\n",
              "    }\n",
              "\n",
              "    .dataframe thead th {\n",
              "        text-align: right;\n",
              "    }\n",
              "</style>\n",
              "<table border=\"1\" class=\"dataframe\">\n",
              "  <thead>\n",
              "    <tr style=\"text-align: right;\">\n",
              "      <th></th>\n",
              "      <th>Age</th>\n",
              "      <th>Educ</th>\n",
              "      <th>SES</th>\n",
              "      <th>MMSE</th>\n",
              "      <th>CDR</th>\n",
              "      <th>eTIV</th>\n",
              "      <th>nWBV</th>\n",
              "      <th>ASF</th>\n",
              "      <th>Delay</th>\n",
              "    </tr>\n",
              "  </thead>\n",
              "  <tbody>\n",
              "    <tr>\n",
              "      <th>count</th>\n",
              "      <td>436.000000</td>\n",
              "      <td>235.000000</td>\n",
              "      <td>216.000000</td>\n",
              "      <td>235.00000</td>\n",
              "      <td>235.000000</td>\n",
              "      <td>436.000000</td>\n",
              "      <td>436.000000</td>\n",
              "      <td>436.000000</td>\n",
              "      <td>20.00000</td>\n",
              "    </tr>\n",
              "    <tr>\n",
              "      <th>mean</th>\n",
              "      <td>51.357798</td>\n",
              "      <td>3.178723</td>\n",
              "      <td>2.490741</td>\n",
              "      <td>27.06383</td>\n",
              "      <td>0.285106</td>\n",
              "      <td>1481.919725</td>\n",
              "      <td>0.791670</td>\n",
              "      <td>1.198894</td>\n",
              "      <td>20.55000</td>\n",
              "    </tr>\n",
              "    <tr>\n",
              "      <th>std</th>\n",
              "      <td>25.269862</td>\n",
              "      <td>1.311510</td>\n",
              "      <td>1.120593</td>\n",
              "      <td>3.69687</td>\n",
              "      <td>0.383405</td>\n",
              "      <td>158.740866</td>\n",
              "      <td>0.059937</td>\n",
              "      <td>0.128682</td>\n",
              "      <td>23.86249</td>\n",
              "    </tr>\n",
              "    <tr>\n",
              "      <th>min</th>\n",
              "      <td>18.000000</td>\n",
              "      <td>1.000000</td>\n",
              "      <td>1.000000</td>\n",
              "      <td>14.00000</td>\n",
              "      <td>0.000000</td>\n",
              "      <td>1123.000000</td>\n",
              "      <td>0.644000</td>\n",
              "      <td>0.881000</td>\n",
              "      <td>1.00000</td>\n",
              "    </tr>\n",
              "    <tr>\n",
              "      <th>25%</th>\n",
              "      <td>23.000000</td>\n",
              "      <td>2.000000</td>\n",
              "      <td>2.000000</td>\n",
              "      <td>26.00000</td>\n",
              "      <td>0.000000</td>\n",
              "      <td>1367.750000</td>\n",
              "      <td>0.742750</td>\n",
              "      <td>1.111750</td>\n",
              "      <td>2.75000</td>\n",
              "    </tr>\n",
              "    <tr>\n",
              "      <th>50%</th>\n",
              "      <td>54.000000</td>\n",
              "      <td>3.000000</td>\n",
              "      <td>2.000000</td>\n",
              "      <td>29.00000</td>\n",
              "      <td>0.000000</td>\n",
              "      <td>1475.500000</td>\n",
              "      <td>0.809000</td>\n",
              "      <td>1.190000</td>\n",
              "      <td>11.00000</td>\n",
              "    </tr>\n",
              "    <tr>\n",
              "      <th>75%</th>\n",
              "      <td>74.000000</td>\n",
              "      <td>4.000000</td>\n",
              "      <td>3.000000</td>\n",
              "      <td>30.00000</td>\n",
              "      <td>0.500000</td>\n",
              "      <td>1579.250000</td>\n",
              "      <td>0.842000</td>\n",
              "      <td>1.284250</td>\n",
              "      <td>30.75000</td>\n",
              "    </tr>\n",
              "    <tr>\n",
              "      <th>max</th>\n",
              "      <td>96.000000</td>\n",
              "      <td>5.000000</td>\n",
              "      <td>5.000000</td>\n",
              "      <td>30.00000</td>\n",
              "      <td>2.000000</td>\n",
              "      <td>1992.000000</td>\n",
              "      <td>0.893000</td>\n",
              "      <td>1.563000</td>\n",
              "      <td>89.00000</td>\n",
              "    </tr>\n",
              "  </tbody>\n",
              "</table>\n",
              "</div>"
            ],
            "text/plain": [
              "              Age        Educ         SES  ...        nWBV         ASF     Delay\n",
              "count  436.000000  235.000000  216.000000  ...  436.000000  436.000000  20.00000\n",
              "mean    51.357798    3.178723    2.490741  ...    0.791670    1.198894  20.55000\n",
              "std     25.269862    1.311510    1.120593  ...    0.059937    0.128682  23.86249\n",
              "min     18.000000    1.000000    1.000000  ...    0.644000    0.881000   1.00000\n",
              "25%     23.000000    2.000000    2.000000  ...    0.742750    1.111750   2.75000\n",
              "50%     54.000000    3.000000    2.000000  ...    0.809000    1.190000  11.00000\n",
              "75%     74.000000    4.000000    3.000000  ...    0.842000    1.284250  30.75000\n",
              "max     96.000000    5.000000    5.000000  ...    0.893000    1.563000  89.00000\n",
              "\n",
              "[8 rows x 9 columns]"
            ]
          },
          "metadata": {
            "tags": []
          },
          "execution_count": 156
        }
      ]
    },
    {
      "cell_type": "code",
      "metadata": {
        "id": "F7QwYEg2NMci",
        "colab_type": "code",
        "colab": {
          "base_uri": "https://localhost:8080/",
          "height": 34
        },
        "outputId": "966213af-ca53-49f8-d8b5-9fc482cd2928"
      },
      "source": [
        "raw_data.Hand.unique()"
      ],
      "execution_count": 157,
      "outputs": [
        {
          "output_type": "execute_result",
          "data": {
            "text/plain": [
              "array(['R'], dtype=object)"
            ]
          },
          "metadata": {
            "tags": []
          },
          "execution_count": 157
        }
      ]
    },
    {
      "cell_type": "markdown",
      "metadata": {
        "id": "NCSNCvyN3FXf",
        "colab_type": "text"
      },
      "source": [
        "This dataset only contains right-handed individuals, so we can drop this column."
      ]
    },
    {
      "cell_type": "code",
      "metadata": {
        "id": "68KEeCVoNVLr",
        "colab_type": "code",
        "colab": {
          "base_uri": "https://localhost:8080/",
          "height": 306
        },
        "outputId": "4b3e7e81-a58d-478c-99da-1f59b8e7546f"
      },
      "source": [
        "data=raw_data.dropna(axis=0, subset=['CDR'])\n",
        "data=data.drop('Hand', axis=1)\n",
        "data=data.drop('ID',axis=1)\n",
        "data.info()"
      ],
      "execution_count": 158,
      "outputs": [
        {
          "output_type": "stream",
          "text": [
            "<class 'pandas.core.frame.DataFrame'>\n",
            "Int64Index: 235 entries, 0 to 415\n",
            "Data columns (total 10 columns):\n",
            " #   Column  Non-Null Count  Dtype  \n",
            "---  ------  --------------  -----  \n",
            " 0   M/F     235 non-null    object \n",
            " 1   Age     235 non-null    int64  \n",
            " 2   Educ    235 non-null    float64\n",
            " 3   SES     216 non-null    float64\n",
            " 4   MMSE    235 non-null    float64\n",
            " 5   CDR     235 non-null    float64\n",
            " 6   eTIV    235 non-null    int64  \n",
            " 7   nWBV    235 non-null    float64\n",
            " 8   ASF     235 non-null    float64\n",
            " 9   Delay   0 non-null      float64\n",
            "dtypes: float64(7), int64(2), object(1)\n",
            "memory usage: 20.2+ KB\n"
          ],
          "name": "stdout"
        }
      ]
    },
    {
      "cell_type": "code",
      "metadata": {
        "id": "T4qAggz-PYdj",
        "colab_type": "code",
        "colab": {}
      },
      "source": [
        "#no non-null values for \"delay\", so drop this column too\n",
        "data=data.drop('Delay', axis=1)"
      ],
      "execution_count": 159,
      "outputs": []
    },
    {
      "cell_type": "code",
      "metadata": {
        "id": "rkMwqlluCkRQ",
        "colab_type": "code",
        "colab": {
          "base_uri": "https://localhost:8080/",
          "height": 34
        },
        "outputId": "6b661f5b-da12-4af7-d5e3-4c57992521c6"
      },
      "source": [
        "data['M/F'].unique()"
      ],
      "execution_count": 160,
      "outputs": [
        {
          "output_type": "execute_result",
          "data": {
            "text/plain": [
              "array(['F', 'M'], dtype=object)"
            ]
          },
          "metadata": {
            "tags": []
          },
          "execution_count": 160
        }
      ]
    },
    {
      "cell_type": "markdown",
      "metadata": {
        "id": "JX95OA6kCtwc",
        "colab_type": "text"
      },
      "source": [
        "M/F will have to be one-hot encoded. "
      ]
    },
    {
      "cell_type": "code",
      "metadata": {
        "id": "VtEXhDRICtBl",
        "colab_type": "code",
        "colab": {
          "base_uri": "https://localhost:8080/",
          "height": 102
        },
        "outputId": "5809c86d-95b6-4fef-f245-b4fe94463e7d"
      },
      "source": [
        "#what's the distribution of dementia ratings among this dataset?\n",
        "data.CDR.value_counts()"
      ],
      "execution_count": 161,
      "outputs": [
        {
          "output_type": "execute_result",
          "data": {
            "text/plain": [
              "0.0    135\n",
              "0.5     70\n",
              "1.0     28\n",
              "2.0      2\n",
              "Name: CDR, dtype: int64"
            ]
          },
          "metadata": {
            "tags": []
          },
          "execution_count": 161
        }
      ]
    },
    {
      "cell_type": "markdown",
      "metadata": {
        "id": "-n9kANZXDCwd",
        "colab_type": "text"
      },
      "source": [
        "This data is skewed towards lower values of CDR.\n"
      ]
    },
    {
      "cell_type": "code",
      "metadata": {
        "id": "W7BSikqvPlhl",
        "colab_type": "code",
        "colab": {
          "base_uri": "https://localhost:8080/",
          "height": 289
        },
        "outputId": "2dca8ee7-8165-427e-846f-c9adcd023957"
      },
      "source": [
        "data.info()"
      ],
      "execution_count": 162,
      "outputs": [
        {
          "output_type": "stream",
          "text": [
            "<class 'pandas.core.frame.DataFrame'>\n",
            "Int64Index: 235 entries, 0 to 415\n",
            "Data columns (total 9 columns):\n",
            " #   Column  Non-Null Count  Dtype  \n",
            "---  ------  --------------  -----  \n",
            " 0   M/F     235 non-null    object \n",
            " 1   Age     235 non-null    int64  \n",
            " 2   Educ    235 non-null    float64\n",
            " 3   SES     216 non-null    float64\n",
            " 4   MMSE    235 non-null    float64\n",
            " 5   CDR     235 non-null    float64\n",
            " 6   eTIV    235 non-null    int64  \n",
            " 7   nWBV    235 non-null    float64\n",
            " 8   ASF     235 non-null    float64\n",
            "dtypes: float64(6), int64(2), object(1)\n",
            "memory usage: 18.4+ KB\n"
          ],
          "name": "stdout"
        }
      ]
    },
    {
      "cell_type": "markdown",
      "metadata": {
        "id": "1XLDI3_AQ9t-",
        "colab_type": "text"
      },
      "source": [
        "SES is the only category with null values now. How should we impute them?"
      ]
    },
    {
      "cell_type": "code",
      "metadata": {
        "id": "XunggRjmPoVV",
        "colab_type": "code",
        "colab": {
          "base_uri": "https://localhost:8080/",
          "height": 432
        },
        "outputId": "45e9db86-5bb1-4ea3-c383-06934a0dd261"
      },
      "source": [
        "sns.boxplot(x=data.SES)\n",
        "data.SES.describe()"
      ],
      "execution_count": 163,
      "outputs": [
        {
          "output_type": "execute_result",
          "data": {
            "text/plain": [
              "count    216.000000\n",
              "mean       2.490741\n",
              "std        1.120593\n",
              "min        1.000000\n",
              "25%        2.000000\n",
              "50%        2.000000\n",
              "75%        3.000000\n",
              "max        5.000000\n",
              "Name: SES, dtype: float64"
            ]
          },
          "metadata": {
            "tags": []
          },
          "execution_count": 163
        },
        {
          "output_type": "display_data",
          "data": {
            "image/png": "[encoded data removed]",
            "text/plain": [
              "<Figure size 432x288 with 1 Axes>"
            ]
          },
          "metadata": {
            "tags": [],
            "needs_background": "light"
          }
        }
      ]
    },
    {
      "cell_type": "markdown",
      "metadata": {
        "id": "q9j7GIoISc9p",
        "colab_type": "text"
      },
      "source": [
        "Since there is only one outlier, SES is categorical, and the dataset is relatively small, we'll try KNN imputer to start."
      ]
    },
    {
      "cell_type": "code",
      "metadata": {
        "id": "sSPSL2-URIm-",
        "colab_type": "code",
        "colab": {
          "base_uri": "https://localhost:8080/",
          "height": 35
        },
        "outputId": "cb0983da-4c10-466d-b9c2-6765551ef325"
      },
      "source": [
        "'''\n",
        "#Let's look at the pairplots\n",
        "sns.set_style('darkgrid')\n",
        "sns.pairplot(data, diag_kind=\"kde\")\n",
        "'''"
      ],
      "execution_count": 164,
      "outputs": [
        {
          "output_type": "execute_result",
          "data": {
            "application/vnd.google.colaboratory.intrinsic+json": {
              "type": "string"
            },
            "text/plain": [
              "'\\n#Let\\'s look at the pairplots\\nsns.set_style(\\'darkgrid\\')\\nsns.pairplot(data, diag_kind=\"kde\")\\n'"
            ]
          },
          "metadata": {
            "tags": []
          },
          "execution_count": 164
        }
      ]
    },
    {
      "cell_type": "markdown",
      "metadata": {
        "id": "01dLxP_jFfBt",
        "colab_type": "text"
      },
      "source": [
        "eTIV and ASF are related by definition. This mulitcolinearity shouldn't be a problem if we use tree classificiation, but let's remove ASF for now anyway."
      ]
    },
    {
      "cell_type": "code",
      "metadata": {
        "id": "wBGVohTCFtvR",
        "colab_type": "code",
        "colab": {}
      },
      "source": [
        "data=data.drop('ASF', axis=1)"
      ],
      "execution_count": 165,
      "outputs": []
    },
    {
      "cell_type": "markdown",
      "metadata": {
        "id": "Dw6mDKW_-Glx",
        "colab_type": "text"
      },
      "source": [
        "There doesn't appear to be any apparent correlations between CDR and other variables. Age and nWBV are negatively correlated. Let's build a simple model without added interaction features for now. "
      ]
    },
    {
      "cell_type": "markdown",
      "metadata": {
        "id": "cI31a4N9_zrf",
        "colab_type": "text"
      },
      "source": [
        "##Preprocessing"
      ]
    },
    {
      "cell_type": "markdown",
      "metadata": {
        "id": "g4iMtfK4_3DL",
        "colab_type": "text"
      },
      "source": [
        "1. Separate target variable + Train test split\n",
        "2. One-hot encode M/F\n",
        "3. KNN Imputer on missing values in SES\n",
        "4. Scale numerical variables: MMSE, nWBV, eTIV"
      ]
    },
    {
      "cell_type": "code",
      "metadata": {
        "id": "rOwoPU5xS2lQ",
        "colab_type": "code",
        "colab": {}
      },
      "source": [
        "#separate target variable (CDR) from features\n",
        "\n",
        "data1=data.copy()\n",
        "y=data1.CDR.copy()\n",
        "X=data1.drop('CDR', axis=1)"
      ],
      "execution_count": 166,
      "outputs": []
    },
    {
      "cell_type": "code",
      "metadata": {
        "id": "SvMUnTJ0HpsS",
        "colab_type": "code",
        "colab": {
          "base_uri": "https://localhost:8080/",
          "height": 318
        },
        "outputId": "8325ef81-a714-4fe2-915a-fea4231bf596"
      },
      "source": [
        "plt.hist(y)"
      ],
      "execution_count": 167,
      "outputs": [
        {
          "output_type": "execute_result",
          "data": {
            "text/plain": [
              "(array([135.,   0.,  70.,   0.,   0.,  28.,   0.,   0.,   0.,   2.]),\n",
              " array([0. , 0.2, 0.4, 0.6, 0.8, 1. , 1.2, 1.4, 1.6, 1.8, 2. ]),\n",
              " <a list of 10 Patch objects>)"
            ]
          },
          "metadata": {
            "tags": []
          },
          "execution_count": 167
        },
        {
          "output_type": "display_data",
          "data": {
            "image/png": "[encoded data removed]",
            "text/plain": [
              "<Figure size 432x288 with 1 Axes>"
            ]
          },
          "metadata": {
            "tags": [],
            "needs_background": "light"
          }
        }
      ]
    },
    {
      "cell_type": "code",
      "metadata": {
        "id": "O2X_eWAGHsbo",
        "colab_type": "code",
        "colab": {
          "base_uri": "https://localhost:8080/",
          "height": 204
        },
        "outputId": "40488932-bd51-411b-b2c5-4a8a78f75c14"
      },
      "source": [
        "X.head()"
      ],
      "execution_count": 168,
      "outputs": [
        {
          "output_type": "execute_result",
          "data": {
            "text/html": [
              "<div>\n",
              "<style scoped>\n",
              "    .dataframe tbody tr th:only-of-type {\n",
              "        vertical-align: middle;\n",
              "    }\n",
              "\n",
              "    .dataframe tbody tr th {\n",
              "        vertical-align: top;\n",
              "    }\n",
              "\n",
              "    .dataframe thead th {\n",
              "        text-align: right;\n",
              "    }\n",
              "</style>\n",
              "<table border=\"1\" class=\"dataframe\">\n",
              "  <thead>\n",
              "    <tr style=\"text-align: right;\">\n",
              "      <th></th>\n",
              "      <th>M/F</th>\n",
              "      <th>Age</th>\n",
              "      <th>Educ</th>\n",
              "      <th>SES</th>\n",
              "      <th>MMSE</th>\n",
              "      <th>eTIV</th>\n",
              "      <th>nWBV</th>\n",
              "    </tr>\n",
              "  </thead>\n",
              "  <tbody>\n",
              "    <tr>\n",
              "      <th>0</th>\n",
              "      <td>F</td>\n",
              "      <td>74</td>\n",
              "      <td>2.0</td>\n",
              "      <td>3.0</td>\n",
              "      <td>29.0</td>\n",
              "      <td>1344</td>\n",
              "      <td>0.743</td>\n",
              "    </tr>\n",
              "    <tr>\n",
              "      <th>1</th>\n",
              "      <td>F</td>\n",
              "      <td>55</td>\n",
              "      <td>4.0</td>\n",
              "      <td>1.0</td>\n",
              "      <td>29.0</td>\n",
              "      <td>1147</td>\n",
              "      <td>0.810</td>\n",
              "    </tr>\n",
              "    <tr>\n",
              "      <th>2</th>\n",
              "      <td>F</td>\n",
              "      <td>73</td>\n",
              "      <td>4.0</td>\n",
              "      <td>3.0</td>\n",
              "      <td>27.0</td>\n",
              "      <td>1454</td>\n",
              "      <td>0.708</td>\n",
              "    </tr>\n",
              "    <tr>\n",
              "      <th>8</th>\n",
              "      <td>M</td>\n",
              "      <td>74</td>\n",
              "      <td>5.0</td>\n",
              "      <td>2.0</td>\n",
              "      <td>30.0</td>\n",
              "      <td>1636</td>\n",
              "      <td>0.689</td>\n",
              "    </tr>\n",
              "    <tr>\n",
              "      <th>9</th>\n",
              "      <td>F</td>\n",
              "      <td>52</td>\n",
              "      <td>3.0</td>\n",
              "      <td>2.0</td>\n",
              "      <td>30.0</td>\n",
              "      <td>1321</td>\n",
              "      <td>0.827</td>\n",
              "    </tr>\n",
              "  </tbody>\n",
              "</table>\n",
              "</div>"
            ],
            "text/plain": [
              "  M/F  Age  Educ  SES  MMSE  eTIV   nWBV\n",
              "0   F   74   2.0  3.0  29.0  1344  0.743\n",
              "1   F   55   4.0  1.0  29.0  1147  0.810\n",
              "2   F   73   4.0  3.0  27.0  1454  0.708\n",
              "8   M   74   5.0  2.0  30.0  1636  0.689\n",
              "9   F   52   3.0  2.0  30.0  1321  0.827"
            ]
          },
          "metadata": {
            "tags": []
          },
          "execution_count": 168
        }
      ]
    },
    {
      "cell_type": "code",
      "metadata": {
        "id": "o-vo3B8jH2hd",
        "colab_type": "code",
        "colab": {
          "base_uri": "https://localhost:8080/",
          "height": 51
        },
        "outputId": "6c07b430-a0f1-432f-ac4f-65a6a8a58802"
      },
      "source": [
        "from sklearn.model_selection import train_test_split\n",
        "\n",
        "X_train, X_test, y_train, y_test= train_test_split(X, y, test_size=0.2, random_state=6)\n",
        "print(X_train.shape, y_train.shape)\n",
        "print(X_test.shape, y_test.shape)"
      ],
      "execution_count": 169,
      "outputs": [
        {
          "output_type": "stream",
          "text": [
            "(188, 7) (188,)\n",
            "(47, 7) (47,)\n"
          ],
          "name": "stdout"
        }
      ]
    },
    {
      "cell_type": "code",
      "metadata": {
        "id": "bxMHPZuzJk_r",
        "colab_type": "code",
        "colab": {}
      },
      "source": [
        "from sklearn.preprocessing import StandardScaler, OneHotEncoder\n",
        "encoder=OneHotEncoder(handle_unknown='ignore')\n",
        "\n",
        "#fit the encoder to training data, and transform training and test data\n",
        "OH_train_data=encoder.fit_transform(X_train[['M/F']]).toarray()\n",
        "OH_test_data=encoder.transform(X_test[['M/F']]).toarray()\n",
        "categories=encoder.categories_[0].tolist()\n",
        "\n",
        "OH_train_data=pd.DataFrame(OH_train_data,columns=categories)\n",
        "OH_test_data=pd.DataFrame(OH_test_data,columns=categories)\n",
        "\n",
        "OH_train_data.index = X_train.index\n",
        "OH_test_data.index = X_test.index\n",
        "\n",
        "#remove original M/F column from X \n",
        "num_X_train=X_train.drop('M/F', axis=1)\n",
        "num_X_test=X_test.drop('M/F', axis=1)\n",
        "\n",
        "#concatenate one hot encoded series to X\n",
        "OH_X_train = pd.concat([num_X_train, OH_train_data], axis=1)\n",
        "OH_X_test = pd.concat([num_X_test, OH_test_data], axis=1)\n"
      ],
      "execution_count": 170,
      "outputs": []
    },
    {
      "cell_type": "code",
      "metadata": {
        "id": "jIBxq3rrPjYs",
        "colab_type": "code",
        "colab": {}
      },
      "source": [
        "#impute missing values for SES using KNN\n",
        "from sklearn.impute import KNNImputer\n",
        "\n",
        "imputer=KNNImputer()\n",
        "imp_train_data=pd.DataFrame(imputer.fit_transform(X_train[['SES']]))\n",
        "imp_test_data=pd.DataFrame(imputer.transform(X_test[['SES']]))\n",
        "\n",
        "imp_train_data.index = X_train.index\n",
        "imp_test_data.index = X_test.index\n",
        "\n",
        "#replace previous column with new imputed column\n",
        "OH_X_train['SES']=imp_train_data\n",
        "OH_X_test['SES']=imp_test_data"
      ],
      "execution_count": 171,
      "outputs": []
    },
    {
      "cell_type": "code",
      "metadata": {
        "id": "OGhaCqkvWOIg",
        "colab_type": "code",
        "colab": {}
      },
      "source": [
        "#MMSE, nWBV, eTIV all appear to be normally distributed so we will use standard scaler\n",
        "scaler=StandardScaler()\n",
        "\n",
        "num_cols=['MMSE', 'nWBV', 'eTIV']\n",
        "scaled_X_train=pd.DataFrame(scaler.fit_transform(X_train[num_cols]))\n",
        "scaled_X_test=pd.DataFrame(scaler.transform(X_test[num_cols]))\n",
        "\n",
        "scaled_X_train.index = X_train.index\n",
        "scaled_X_test.index = X_test.index\n",
        "\n",
        "OH_X_train[num_cols]=scaled_X_train\n",
        "OH_X_test[num_cols]=scaled_X_test"
      ],
      "execution_count": 172,
      "outputs": []
    },
    {
      "cell_type": "code",
      "metadata": {
        "id": "aaj641x2W3hu",
        "colab_type": "code",
        "colab": {}
      },
      "source": [
        "#renaming final processed datasets\n",
        "X_train_processed=OH_X_train.copy()\n",
        "X_test_processed=OH_X_test.copy()\n"
      ],
      "execution_count": 173,
      "outputs": []
    },
    {
      "cell_type": "code",
      "metadata": {
        "id": "n1kgOGzddzXk",
        "colab_type": "code",
        "colab": {}
      },
      "source": [
        "#target data is currently in 4 categories: 0, 0.5, 1 and 2. Since 0.5 is a float and not an int, classifier models won't like this\n",
        "#we will need to map output to new values\n",
        "\n",
        "y_train_processed=y_train.map({0:0, 0.5:1, 1:2, 2:3}).astype(int)\n",
        "y_test_processed=y_test.map({0:0, 0.5:1, 1:2, 2:3}).astype(int)\n",
        "#new output for CDR is 0, 1, 2, 3 instead of 0, 0.5, 1, and 2"
      ],
      "execution_count": 174,
      "outputs": []
    },
    {
      "cell_type": "markdown",
      "metadata": {
        "id": "7O_hV7CUYFcV",
        "colab_type": "text"
      },
      "source": [
        "##Exploring Models"
      ]
    },
    {
      "cell_type": "markdown",
      "metadata": {
        "id": "XgRyyxU0YwHY",
        "colab_type": "text"
      },
      "source": [
        "1. Train several classifiers using default params \n",
        "2. k-fold cross validation for each model\n",
        "3. Compare performance of each model\n",
        "4. Investigate feature importance \n",
        "5. Feature engineering"
      ]
    },
    {
      "cell_type": "code",
      "metadata": {
        "id": "nDFMTQM7nbkn",
        "colab_type": "code",
        "colab": {}
      },
      "source": [
        "from sklearn.ensemble import RandomForestClassifier\n",
        "from sklearn.linear_model import LogisticRegression\n",
        "from xgboost import XGBClassifier\n",
        "from sklearn.naive_bayes import BernoulliNB\n",
        "from sklearn.svm import SVC\n",
        "\n",
        "#create default models for initial comparison\n",
        "forest_df=RandomForestClassifier(random_state=6)\n",
        "logistic_df=LogisticRegression(solver='newton-cg', multi_class='multinomial', random_state=6) #params changed in order to converge on a multiclass target \n",
        "xgb_df=XGBClassifier(random_state=6)\n",
        "nb_df=BernoulliNB()\n",
        "svc_df= SVC(kernel='linear', random_state=6) #default kernel (rbf) gave a much lower score, so tried others and linear was comparable"
      ],
      "execution_count": 175,
      "outputs": []
    },
    {
      "cell_type": "code",
      "metadata": {
        "id": "RUjQDByXdvW_",
        "colab_type": "code",
        "colab": {
          "base_uri": "https://localhost:8080/",
          "height": 102
        },
        "outputId": "ebec1c7f-ab21-4630-c275-bb261bb6c9e6"
      },
      "source": [
        "from sklearn.model_selection import cross_val_score\n",
        "\n",
        "models= [forest_df, logistic_df, xgb_df, nb_df, svc_df]\n",
        "for model in models:\n",
        "  score = cross_val_score(model, X_train_processed, y_train_processed)\n",
        "  model_name = type(model).__name__\n",
        "  print('Model:{}, Average score and std dev across 5 folds {:0.2}(+/{:0.2})'.format(model_name, score.mean(), score.std()))"
      ],
      "execution_count": 176,
      "outputs": [
        {
          "output_type": "stream",
          "text": [
            "Model:RandomForestClassifier, Average score and std dev across 5 folds 0.73(+/0.046)\n",
            "Model:LogisticRegression, Average score and std dev across 5 folds 0.71(+/0.057)\n",
            "Model:XGBClassifier, Average score and std dev across 5 folds 0.71(+/0.021)\n",
            "Model:BernoulliNB, Average score and std dev across 5 folds 0.69(+/0.045)\n",
            "Model:SVC, Average score and std dev across 5 folds 0.73(+/0.056)\n"
          ],
          "name": "stdout"
        }
      ]
    },
    {
      "cell_type": "markdown",
      "metadata": {
        "id": "dW3TMqm9RwYe",
        "colab_type": "text"
      },
      "source": [
        "With mostly default parameters, the models all have similar cross validation scores "
      ]
    },
    {
      "cell_type": "code",
      "metadata": {
        "id": "RYszbX80zYsi",
        "colab_type": "code",
        "colab": {}
      },
      "source": [
        "#generate confusion matrix\n",
        "from sklearn.metrics import plot_confusion_matrix, precision_score, recall_score, f1_score\n",
        "def conf_matrix(model, X, y, Xtest, ytest):\n",
        "  model.fit(X,y)\n",
        "  preds=model.predict(Xtest)\n",
        "  prec=precision_score(y_test_processed, preds,\n",
        "                       average='weighted',\n",
        "                       zero_division=1)\n",
        "  rec=recall_score(y_test_processed,preds,\n",
        "                   average='weighted',\n",
        "                   zero_division=1)\n",
        "  f1=f1_score(y_test_processed, preds,\n",
        "                       average='weighted',\n",
        "                       zero_division=1)\n",
        "\n",
        "  cm=plot_confusion_matrix(model,Xtest,ytest,\n",
        "                           labels=[0,1,2,3],\n",
        "                           cmap=plt.cm.Blues)\n",
        "\n",
        "  model_name=type(model).__name__\n",
        "  cm.ax_.set_title(model_name)\n",
        "\n",
        "  print('Model: {:<25} Precision: {:<10.2} Recall: {:<10.2} F1: {:0.2}'.format(model_name,prec,rec,f1))\n",
        "  return cm"
      ],
      "execution_count": 177,
      "outputs": []
    },
    {
      "cell_type": "code",
      "metadata": {
        "id": "US5XxmSu0xfb",
        "colab_type": "code",
        "colab": {
          "base_uri": "https://localhost:8080/",
          "height": 1000
        },
        "outputId": "8592d645-3620-4d7b-c4c9-b6e867b2d3a1"
      },
      "source": [
        "for model in models:\n",
        "  conf_matrix(model, X_train_processed, y_train_processed, X_test_processed, y_test_processed)"
      ],
      "execution_count": 178,
      "outputs": [
        {
          "output_type": "stream",
          "text": [
            "Model: RandomForestClassifier    Precision: 0.71       Recall: 0.68       F1: 0.67\n",
            "Model: LogisticRegression        Precision: 0.75       Recall: 0.7        F1: 0.7\n",
            "Model: XGBClassifier             Precision: 0.68       Recall: 0.6        F1: 0.6\n",
            "Model: BernoulliNB               Precision: 0.81       Recall: 0.79       F1: 0.76\n",
            "Model: SVC                       Precision: 0.77       Recall: 0.7        F1: 0.7\n"
          ],
          "name": "stdout"
        },
        {
          "output_type": "display_data",
          "data": {
            "image/png": "[encoded data removed]",
            "text/plain": [
              "<Figure size 432x288 with 2 Axes>"
            ]
          },
          "metadata": {
            "tags": [],
            "needs_background": "light"
          }
        },
        {
          "output_type": "display_data",
          "data": {
            "image/png": "[encoded data removed]",
            "text/plain": [
              "<Figure size 432x288 with 2 Axes>"
            ]
          },
          "metadata": {
            "tags": [],
            "needs_background": "light"
          }
        },
        {
          "output_type": "display_data",
          "data": {
            "image/png": "[encoded data removed]",
            "text/plain": [
              "<Figure size 432x288 with 2 Axes>"
            ]
          },
          "metadata": {
            "tags": [],
            "needs_background": "light"
          }
        },
        {
          "output_type": "display_data",
          "data": {
            "image/png": "[encoded data removed]",
            "text/plain": [
              "<Figure size 432x288 with 2 Axes>"
            ]
          },
          "metadata": {
            "tags": [],
            "needs_background": "light"
          }
        },
        {
          "output_type": "display_data",
          "data": {
            "image/png": "[encoded data removed]",
            "text/plain": [
              "<Figure size 432x288 with 2 Axes>"
            ]
          },
          "metadata": {
            "tags": [],
            "needs_background": "light"
          }
        }
      ]
    },
    {
      "cell_type": "code",
      "metadata": {
        "id": "gqb0CUublN6C",
        "colab_type": "code",
        "colab": {
          "base_uri": "https://localhost:8080/",
          "height": 299
        },
        "outputId": "d59601ef-933b-4c22-d102-1e1e644afa33"
      },
      "source": [
        "#quickly see what the most important features are for the random forest model using feature_importances\n",
        "forest_df.fit(X_train_processed,y_train_processed)\n",
        "print(forest_df.feature_importances_) #use inbuilt class feature_importances of tree based classifiers\n",
        "#plot graph of feature importances for better visualization\n",
        "feat_importances = pd.Series(forest_df.feature_importances_, index=X_train_processed.columns)\n",
        "feat_importances.nlargest(10).plot(kind='barh')\n",
        "plt.show()"
      ],
      "execution_count": 179,
      "outputs": [
        {
          "output_type": "stream",
          "text": [
            "[0.16517994 0.06830279 0.07515902 0.29729337 0.14828966 0.20406565\n",
            " 0.01941103 0.02229854]\n"
          ],
          "name": "stdout"
        },
        {
          "output_type": "display_data",
          "data": {
            "image/png": "[encoded data removed]",
            "text/plain": [
              "<Figure size 432x288 with 1 Axes>"
            ]
          },
          "metadata": {
            "tags": [],
            "needs_background": "light"
          }
        }
      ]
    },
    {
      "cell_type": "markdown",
      "metadata": {
        "id": "-FA7D-6jM67T",
        "colab_type": "text"
      },
      "source": [
        "feature_importances_ may be biased to high cardinality features [sklearn docs]. We will try using permutation feature importance as well. \"This procedure breaks the relationship between the feature and the target, thus the drop in the model score is indicative of how much the model depends on the feature.\" We can also use it for non-tree based classifiers."
      ]
    },
    {
      "cell_type": "code",
      "metadata": {
        "id": "4yj_IHNWNQJ-",
        "colab_type": "code",
        "colab": {
          "base_uri": "https://localhost:8080/",
          "height": 265
        },
        "outputId": "c6e4eb40-7c89-448b-d2e1-c2d9474fff4f"
      },
      "source": [
        "#try with random forest first\n",
        "from sklearn.inspection import permutation_importance\n",
        "\n",
        "r = permutation_importance(forest_df, X_test_processed, y_test_processed,\n",
        "                           n_repeats=30,\n",
        "                           random_state=0)\n",
        "p_importances = pd.Series(r.importances_mean, index=X_train_processed.columns)\n",
        "p_importances.plot(kind='barh')\n",
        "plt.show()\n"
      ],
      "execution_count": 180,
      "outputs": [
        {
          "output_type": "display_data",
          "data": {
            "image/png": "[encoded data removed]",
            "text/plain": [
              "<Figure size 432x288 with 1 Axes>"
            ]
          },
          "metadata": {
            "tags": [],
            "needs_background": "light"
          }
        }
      ]
    },
    {
      "cell_type": "markdown",
      "metadata": {
        "id": "00yoO5CrREwi",
        "colab_type": "text"
      },
      "source": [
        "The negative scores indicate that substituting the features with random permutations (noise) are better than the original features. Based on this assessment, MMSE, SES, and Age are the probably the most important features in this model. Let's look at the other models too."
      ]
    },
    {
      "cell_type": "code",
      "metadata": {
        "id": "Y1b38a2KRtF4",
        "colab_type": "code",
        "colab": {
          "base_uri": "https://localhost:8080/",
          "height": 1000
        },
        "outputId": "db0441d2-31bf-4730-eddc-9d8ec82e7a8a"
      },
      "source": [
        "for model in models: \n",
        "  model_name = type(model).__name__\n",
        "  model.fit(X_train_processed, y_train_processed)\n",
        "  r = permutation_importance(model, X_test_processed, y_test_processed,\n",
        "                           n_repeats=30,\n",
        "                           random_state=0)\n",
        "  p_importances = pd.Series(r.importances_mean, index=X_train_processed.columns)\n",
        "  p_importances.plot(kind='barh')\n",
        "  plt.title(model_name)\n",
        "  plt.show()\n"
      ],
      "execution_count": 181,
      "outputs": [
        {
          "output_type": "display_data",
          "data": {
            "image/png": "[encoded data removed]",
            "text/plain": [
              "<Figure size 432x288 with 1 Axes>"
            ]
          },
          "metadata": {
            "tags": [],
            "needs_background": "light"
          }
        },
        {
          "output_type": "display_data",
          "data": {
            "image/png": "[encoded data removed]",
            "text/plain": [
              "<Figure size 432x288 with 1 Axes>"
            ]
          },
          "metadata": {
            "tags": [],
            "needs_background": "light"
          }
        },
        {
          "output_type": "display_data",
          "data": {
            "image/png": "[encoded data removed]",
            "text/plain": [
              "<Figure size 432x288 with 1 Axes>"
            ]
          },
          "metadata": {
            "tags": [],
            "needs_background": "light"
          }
        },
        {
          "output_type": "display_data",
          "data": {
            "image/png": "[encoded data removed]",
            "text/plain": [
              "<Figure size 432x288 with 1 Axes>"
            ]
          },
          "metadata": {
            "tags": [],
            "needs_background": "light"
          }
        },
        {
          "output_type": "display_data",
          "data": {
            "image/png": "[encoded data removed]",
            "text/plain": [
              "<Figure size 432x288 with 1 Axes>"
            ]
          },
          "metadata": {
            "tags": [],
            "needs_background": "light"
          }
        }
      ]
    },
    {
      "cell_type": "markdown",
      "metadata": {
        "id": "qEEtylouV1z2",
        "colab_type": "text"
      },
      "source": [
        "The features affect each model differently. However, MMSE seems to be the most important for each. \n",
        "Let's re-train the models, using only features with permutation importance > 0, then compare their new cross val scores. "
      ]
    },
    {
      "cell_type": "code",
      "metadata": {
        "id": "-NDyFgIebu8W",
        "colab_type": "code",
        "colab": {}
      },
      "source": [
        "cols={} #a dictionary that will contain the model names as keys, and important features as a list for that key\n",
        "for model in models:\n",
        "  model_name = type(model).__name__\n",
        "  model.fit(X_train_processed, y_train_processed)\n",
        "  r = permutation_importance(model, X_test_processed, y_test_processed,\n",
        "                           n_repeats=30,\n",
        "                           random_state=0)\n",
        "  key=model_name\n",
        "  cols.setdefault(key,[])\n",
        "  for i in r.importances_mean.argsort()[::-1]:\n",
        "    if r.importances_mean[i] > 0:\n",
        "      cols[key].append(X_test_processed.columns[i])\n"
      ],
      "execution_count": 182,
      "outputs": []
    },
    {
      "cell_type": "code",
      "metadata": {
        "id": "ONg2FZnmeGeZ",
        "colab_type": "code",
        "colab": {
          "base_uri": "https://localhost:8080/",
          "height": 102
        },
        "outputId": "c3257cdb-5a87-4872-b413-27697f96af33"
      },
      "source": [
        "cols"
      ],
      "execution_count": 183,
      "outputs": [
        {
          "output_type": "execute_result",
          "data": {
            "text/plain": [
              "{'BernoulliNB': ['MMSE', 'nWBV', 'eTIV', 'M', 'F'],\n",
              " 'LogisticRegression': ['MMSE', 'nWBV', 'M', 'F', 'Age'],\n",
              " 'RandomForestClassifier': ['MMSE', 'Age', 'SES'],\n",
              " 'SVC': ['MMSE', 'nWBV', 'Age', 'M', 'F', 'SES', 'Educ'],\n",
              " 'XGBClassifier': ['MMSE', 'SES', 'F']}"
            ]
          },
          "metadata": {
            "tags": []
          },
          "execution_count": 183
        }
      ]
    },
    {
      "cell_type": "code",
      "metadata": {
        "id": "XDM4fwaDeI_1",
        "colab_type": "code",
        "colab": {
          "base_uri": "https://localhost:8080/",
          "height": 1000
        },
        "outputId": "35c523e7-8408-4c48-a150-cbba3093b460"
      },
      "source": [
        "for model in models:\n",
        "  model_name = type(model).__name__\n",
        "  imp_cols=cols[model_name]\n",
        "\n",
        "  score = cross_val_score(model, X_train_processed[imp_cols], y_train_processed)\n",
        "  model_name = type(model).__name__\n",
        "\n",
        "  conf_matrix(model, X_train_processed[imp_cols], y_train_processed, X_test_processed[imp_cols], y_test_processed)\n",
        "  print('Model: {:<25} Average score and std dev across 5 folds {:0.2}(+/{:0.2})'.format(model_name, score.mean(), score.std()))"
      ],
      "execution_count": 190,
      "outputs": [
        {
          "output_type": "stream",
          "text": [
            "Model: RandomForestClassifier    Precision: 0.73       Recall: 0.66       F1: 0.66\n",
            "Model: RandomForestClassifier    Average score and std dev across 5 folds 0.68(+/0.054)\n",
            "Model: LogisticRegression        Precision: 0.78       Recall: 0.74       F1: 0.74\n",
            "Model: LogisticRegression        Average score and std dev across 5 folds 0.72(+/0.063)\n",
            "Model: XGBClassifier             Precision: 0.73       Recall: 0.66       F1: 0.66\n",
            "Model: XGBClassifier             Average score and std dev across 5 folds 0.72(+/0.067)\n",
            "Model: BernoulliNB               Precision: 0.81       Recall: 0.79       F1: 0.76\n",
            "Model: BernoulliNB               Average score and std dev across 5 folds 0.69(+/0.073)\n",
            "Model: SVC                       Precision: 0.75       Recall: 0.7        F1: 0.69\n",
            "Model: SVC                       Average score and std dev across 5 folds 0.73(+/0.04)\n"
          ],
          "name": "stdout"
        },
        {
          "output_type": "display_data",
          "data": {
            "image/png": "[encoded data removed]",
            "text/plain": [
              "<Figure size 432x288 with 2 Axes>"
            ]
          },
          "metadata": {
            "tags": [],
            "needs_background": "light"
          }
        },
        {
          "output_type": "display_data",
          "data": {
            "image/png": "[encoded data removed]",
            "text/plain": [
              "<Figure size 432x288 with 2 Axes>"
            ]
          },
          "metadata": {
            "tags": [],
            "needs_background": "light"
          }
        },
        {
          "output_type": "display_data",
          "data": {
            "image/png": "[encoded data removed]",
            "text/plain": [
              "<Figure size 432x288 with 2 Axes>"
            ]
          },
          "metadata": {
            "tags": [],
            "needs_background": "light"
          }
        },
        {
          "output_type": "display_data",
          "data": {
            "image/png": "[encoded data removed]",
            "text/plain": [
              "<Figure size 432x288 with 2 Axes>"
            ]
          },
          "metadata": {
            "tags": [],
            "needs_background": "light"
          }
        },
        {
          "output_type": "display_data",
          "data": {
            "image/png": "[encoded data removed]",
            "text/plain": [
              "<Figure size 432x288 with 2 Axes>"
            ]
          },
          "metadata": {
            "tags": [],
            "needs_background": "light"
          }
        }
      ]
    },
    {
      "cell_type": "markdown",
      "metadata": {
        "id": "cS1J2ou-iVRr",
        "colab_type": "text"
      },
      "source": [
        "Dropping the less important features doesn't appear to have improved model performance. \n"
      ]
    },
    {
      "cell_type": "code",
      "metadata": {
        "id": "8CTw2X3Zl1YL",
        "colab_type": "code",
        "colab": {
          "base_uri": "https://localhost:8080/",
          "height": 296
        },
        "outputId": "35b04914-2b5a-4bb1-a7fb-4d18489edd76"
      },
      "source": [
        "#let's revisit the nWBV and Age relationship\n",
        "sns.scatterplot(x=X_train['nWBV'], y=X_train['Age'])"
      ],
      "execution_count": 185,
      "outputs": [
        {
          "output_type": "execute_result",
          "data": {
            "text/plain": [
              "<matplotlib.axes._subplots.AxesSubplot at 0x7fa5fb679eb8>"
            ]
          },
          "metadata": {
            "tags": []
          },
          "execution_count": 185
        },
        {
          "output_type": "display_data",
          "data": {
            "image/png": "[encoded data removed]",
            "text/plain": [
              "<Figure size 432x288 with 1 Axes>"
            ]
          },
          "metadata": {
            "tags": [],
            "needs_background": "light"
          }
        }
      ]
    },
    {
      "cell_type": "code",
      "metadata": {
        "id": "7Le1rgBll5o3",
        "colab_type": "code",
        "colab": {
          "base_uri": "https://localhost:8080/",
          "height": 34
        },
        "outputId": "44730131-cdc4-475f-c8b1-0474cd6d9e21"
      },
      "source": [
        "from scipy.stats import pearsonr\n",
        "\n",
        "corr, _ = pearsonr(X_train['nWBV'], X_train['Age'])\n",
        "print('Pearsons correlation: %.3f' % corr)"
      ],
      "execution_count": 186,
      "outputs": [
        {
          "output_type": "stream",
          "text": [
            "Pearsons correlation: -0.718\n"
          ],
          "name": "stdout"
        }
      ]
    },
    {
      "cell_type": "markdown",
      "metadata": {
        "id": "WLn3p7fBoz8h",
        "colab_type": "text"
      },
      "source": [
        "Since Age and nWBV are pretty strongly negatively correlated, maybe removing one of them will improve cross validation scores if overfitting was a problem. "
      ]
    },
    {
      "cell_type": "code",
      "metadata": {
        "id": "6ZlCjJ98qJGw",
        "colab_type": "code",
        "colab": {
          "base_uri": "https://localhost:8080/",
          "height": 54
        },
        "outputId": "81ac2714-9f74-4ce8-dd4b-2cc5dc1888af"
      },
      "source": [
        "#modify cols dictionary to get rid of Age\n",
        "cols_mod=cols.copy()\n",
        "for key, item in cols_mod.items(): \n",
        "  if 'Age' in item:\n",
        "    item.remove('Age')\n",
        "print(cols_mod)"
      ],
      "execution_count": 187,
      "outputs": [
        {
          "output_type": "stream",
          "text": [
            "{'RandomForestClassifier': ['MMSE', 'SES'], 'LogisticRegression': ['MMSE', 'nWBV', 'M', 'F'], 'XGBClassifier': ['MMSE', 'SES', 'F'], 'BernoulliNB': ['MMSE', 'nWBV', 'eTIV', 'M', 'F'], 'SVC': ['MMSE', 'nWBV', 'M', 'F', 'SES', 'Educ']}\n"
          ],
          "name": "stdout"
        }
      ]
    },
    {
      "cell_type": "code",
      "metadata": {
        "id": "9klqg96Fmit7",
        "colab_type": "code",
        "colab": {
          "base_uri": "https://localhost:8080/",
          "height": 1000
        },
        "outputId": "25297fd8-42d1-4d48-b304-1d77b8aa3302"
      },
      "source": [
        "for model in models:\n",
        "  model_name = type(model).__name__\n",
        "  imp_cols=cols_mod[model_name]\n",
        "\n",
        "  score = cross_val_score(model, X_train_processed[imp_cols], y_train_processed)\n",
        "  model_name = type(model).__name__\n",
        "  conf_matrix(model, X_train_processed[imp_cols], y_train_processed, X_test_processed[imp_cols], y_test_processed)\n",
        "  print('Model: {:<25} Average score and std dev across 5 folds {:0.2}(+/{:0.2})'.format(model_name, score.mean(), score.std()))"
      ],
      "execution_count": 192,
      "outputs": [
        {
          "output_type": "stream",
          "text": [
            "Model: RandomForestClassifier    Precision: 0.73       Recall: 0.66       F1: 0.66\n",
            "Model: RandomForestClassifier    Average score and std dev across 5 folds 0.68(+/0.054)\n",
            "Model: LogisticRegression        Precision: 0.78       Recall: 0.74       F1: 0.74\n",
            "Model: LogisticRegression        Average score and std dev across 5 folds 0.72(+/0.063)\n",
            "Model: XGBClassifier             Precision: 0.73       Recall: 0.66       F1: 0.66\n",
            "Model: XGBClassifier             Average score and std dev across 5 folds 0.72(+/0.067)\n",
            "Model: BernoulliNB               Precision: 0.81       Recall: 0.79       F1: 0.76\n",
            "Model: BernoulliNB               Average score and std dev across 5 folds 0.69(+/0.073)\n",
            "Model: SVC                       Precision: 0.75       Recall: 0.7        F1: 0.69\n",
            "Model: SVC                       Average score and std dev across 5 folds 0.73(+/0.04)\n"
          ],
          "name": "stdout"
        },
        {
          "output_type": "display_data",
          "data": {
            "image/png": "[encoded data removed]",
            "text/plain": [
              "<Figure size 432x288 with 2 Axes>"
            ]
          },
          "metadata": {
            "tags": [],
            "needs_background": "light"
          }
        },
        {
          "output_type": "display_data",
          "data": {
            "image/png": "[encoded data removed]",
            "text/plain": [
              "<Figure size 432x288 with 2 Axes>"
            ]
          },
          "metadata": {
            "tags": [],
            "needs_background": "light"
          }
        },
        {
          "output_type": "display_data",
          "data": {
            "image/png": "[encoded data removed]",
            "text/plain": [
              "<Figure size 432x288 with 2 Axes>"
            ]
          },
          "metadata": {
            "tags": [],
            "needs_background": "light"
          }
        },
        {
          "output_type": "display_data",
          "data": {
            "image/png": "[encoded data removed]",
            "text/plain": [
              "<Figure size 432x288 with 2 Axes>"
            ]
          },
          "metadata": {
            "tags": [],
            "needs_background": "light"
          }
        },
        {
          "output_type": "display_data",
          "data": {
            "image/png": "[encoded data removed]",
            "text/plain": [
              "<Figure size 432x288 with 2 Axes>"
            ]
          },
          "metadata": {
            "tags": [],
            "needs_background": "light"
          }
        }
      ]
    },
    {
      "cell_type": "markdown",
      "metadata": {
        "id": "yc_0U_mPsTGv",
        "colab_type": "text"
      },
      "source": [
        "Again there is not much change in the performance of the models. Since they are all performing at similar levels, we'll try and tune the hyperparameters of a couple to see if we can improve the score any more. "
      ]
    },
    {
      "cell_type": "markdown",
      "metadata": {
        "id": "ZTgQjhQst8Jg",
        "colab_type": "text"
      },
      "source": [
        "#Tuning hyperparamters\n"
      ]
    },
    {
      "cell_type": "markdown",
      "metadata": {
        "id": "n2c1EORKuDQU",
        "colab_type": "text"
      },
      "source": [
        "Bernoulli naive bayes and logistic regression classifiers have given the highest precision and recall scores. We will try to tune their hyperparameters in order to further improve performance. "
      ]
    },
    {
      "cell_type": "code",
      "metadata": {
        "id": "Cq8eGweLrcrY",
        "colab_type": "code",
        "colab": {}
      },
      "source": [
        ""
      ],
      "execution_count": 188,
      "outputs": []
    }
  ]
}