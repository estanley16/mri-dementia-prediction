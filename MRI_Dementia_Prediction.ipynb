{
  "nbformat": 4,
  "nbformat_minor": 0,
  "metadata": {
    "colab": {
      "name": "MRI_Dementia_Prediction.ipynb",
      "provenance": [],
      "collapsed_sections": [],
      "mount_file_id": "1Nti0G88ovOTzonVKRXTAfqXcbh6MCLO1",
      "authorship_tag": "ABX9TyMKw8chamzFeLjP7oyP1r9g"
    },
    "kernelspec": {
      "name": "python3",
      "display_name": "Python 3"
    }
  },
  "cells": [
    {
      "cell_type": "markdown",
      "metadata": {
        "id": "x3iO4fuRHypQ",
        "colab_type": "text"
      },
      "source": [
        "\n",
        "Cross-sectional MRI Data in Young, Middle Aged, Nondemented and Demented Older Adults: This set consists of a cross-sectional collection of 416 subjects aged 18 to 96. For each subject, 3 or 4 individual T1-weighted MRI scans obtained in single scan sessions are included. The subjects are all right-handed and include both men and women. 100 of the included subjects over the age of 60 have been clinically diagnosed with very mild to moderate Alzheimer’s disease (AD). Additionally, a reliability data set is included containing 20 nondemented subjects imaged on a subsequent visit within 90 days of their initial session.\n"
      ]
    },
    {
      "cell_type": "markdown",
      "metadata": {
        "id": "oLbpj9NsIGSg",
        "colab_type": "text"
      },
      "source": [
        "Context:\n",
        "The Open Access Series of Imaging Studies (OASIS) is a project aimed at making MRI data sets of the brain freely available to the scientific community. By compiling and freely distributing MRI data sets, we hope to facilitate future discoveries in basic and clinical neuroscience. OASIS is made available by the Washington University Alzheimer’s Disease Research Center, Dr. Randy Buckner at the Howard Hughes Medical Institute (HHMI)( at Harvard University, the Neuroinformatics Research Group (NRG) at Washington University School of Medicine, and the Biomedical Informatics Research Network (BIRN).\n"
      ]
    },
    {
      "cell_type": "markdown",
      "metadata": {
        "id": "VnrAo4gdIBL9",
        "colab_type": "text"
      },
      "source": [
        "Data: \n",
        "\n",
        "\n",
        "*   ID: Identification (cat)\n",
        "*   M/F: Gender (cat)\n",
        "*   Hand: Dominant Hand (cat: R or L)\n",
        "*   Age: Age in Years (num)\n",
        "*   Educ: Education Level (cat: 1-5)\n",
        "*   SES: Socioeconomic status (cat: 1-5)\n",
        "*   MMSE: Mini Mental State Evaluation (num)\n",
        "*   CDR: Clinical Dementia Rating (cat: 0-2)\n",
        "*   eTIV: Estimated Total Intercranial Volume (num)\n",
        "*   nWBV: Normalized Whole Brain Volume (num)\n",
        "*   ATS: Atlas Scaling Factor (num)\n",
        "*   Delay: ?\n",
        "\n",
        "\n",
        "\n",
        "\n",
        "\n",
        "\n",
        "\n",
        "\n",
        "\n",
        "\n"
      ]
    },
    {
      "cell_type": "code",
      "metadata": {
        "id": "aNQjru6vIv-z",
        "colab_type": "code",
        "colab": {}
      },
      "source": [
        "import numpy as np\n",
        "import pandas as pd\n",
        "import matplotlib.pyplot as plt\n",
        "import seaborn as sns"
      ],
      "execution_count": 275,
      "outputs": []
    },
    {
      "cell_type": "markdown",
      "metadata": {
        "id": "gw-Cns_CIzcL",
        "colab_type": "text"
      },
      "source": [
        "##Exploratory Data Analysis"
      ]
    },
    {
      "cell_type": "code",
      "metadata": {
        "id": "Brb2--zjIyoY",
        "colab_type": "code",
        "colab": {
          "base_uri": "https://localhost:8080/",
          "height": 204
        },
        "outputId": "8e23b110-e8b1-4205-b51d-4ccf736c5693"
      },
      "source": [
        "cross_sec_filepath= '/content/drive/My Drive/data for colab/mri and alzheimers/datasets_1980_3398_oasis_cross-sectional.csv'\n",
        "raw_data=pd.read_csv(cross_sec_filepath)\n",
        "raw_data.head()"
      ],
      "execution_count": 276,
      "outputs": [
        {
          "output_type": "execute_result",
          "data": {
            "text/html": [
              "<div>\n",
              "<style scoped>\n",
              "    .dataframe tbody tr th:only-of-type {\n",
              "        vertical-align: middle;\n",
              "    }\n",
              "\n",
              "    .dataframe tbody tr th {\n",
              "        vertical-align: top;\n",
              "    }\n",
              "\n",
              "    .dataframe thead th {\n",
              "        text-align: right;\n",
              "    }\n",
              "</style>\n",
              "<table border=\"1\" class=\"dataframe\">\n",
              "  <thead>\n",
              "    <tr style=\"text-align: right;\">\n",
              "      <th></th>\n",
              "      <th>ID</th>\n",
              "      <th>M/F</th>\n",
              "      <th>Hand</th>\n",
              "      <th>Age</th>\n",
              "      <th>Educ</th>\n",
              "      <th>SES</th>\n",
              "      <th>MMSE</th>\n",
              "      <th>CDR</th>\n",
              "      <th>eTIV</th>\n",
              "      <th>nWBV</th>\n",
              "      <th>ASF</th>\n",
              "      <th>Delay</th>\n",
              "    </tr>\n",
              "  </thead>\n",
              "  <tbody>\n",
              "    <tr>\n",
              "      <th>0</th>\n",
              "      <td>OAS1_0001_MR1</td>\n",
              "      <td>F</td>\n",
              "      <td>R</td>\n",
              "      <td>74</td>\n",
              "      <td>2.0</td>\n",
              "      <td>3.0</td>\n",
              "      <td>29.0</td>\n",
              "      <td>0.0</td>\n",
              "      <td>1344</td>\n",
              "      <td>0.743</td>\n",
              "      <td>1.306</td>\n",
              "      <td>NaN</td>\n",
              "    </tr>\n",
              "    <tr>\n",
              "      <th>1</th>\n",
              "      <td>OAS1_0002_MR1</td>\n",
              "      <td>F</td>\n",
              "      <td>R</td>\n",
              "      <td>55</td>\n",
              "      <td>4.0</td>\n",
              "      <td>1.0</td>\n",
              "      <td>29.0</td>\n",
              "      <td>0.0</td>\n",
              "      <td>1147</td>\n",
              "      <td>0.810</td>\n",
              "      <td>1.531</td>\n",
              "      <td>NaN</td>\n",
              "    </tr>\n",
              "    <tr>\n",
              "      <th>2</th>\n",
              "      <td>OAS1_0003_MR1</td>\n",
              "      <td>F</td>\n",
              "      <td>R</td>\n",
              "      <td>73</td>\n",
              "      <td>4.0</td>\n",
              "      <td>3.0</td>\n",
              "      <td>27.0</td>\n",
              "      <td>0.5</td>\n",
              "      <td>1454</td>\n",
              "      <td>0.708</td>\n",
              "      <td>1.207</td>\n",
              "      <td>NaN</td>\n",
              "    </tr>\n",
              "    <tr>\n",
              "      <th>3</th>\n",
              "      <td>OAS1_0004_MR1</td>\n",
              "      <td>M</td>\n",
              "      <td>R</td>\n",
              "      <td>28</td>\n",
              "      <td>NaN</td>\n",
              "      <td>NaN</td>\n",
              "      <td>NaN</td>\n",
              "      <td>NaN</td>\n",
              "      <td>1588</td>\n",
              "      <td>0.803</td>\n",
              "      <td>1.105</td>\n",
              "      <td>NaN</td>\n",
              "    </tr>\n",
              "    <tr>\n",
              "      <th>4</th>\n",
              "      <td>OAS1_0005_MR1</td>\n",
              "      <td>M</td>\n",
              "      <td>R</td>\n",
              "      <td>18</td>\n",
              "      <td>NaN</td>\n",
              "      <td>NaN</td>\n",
              "      <td>NaN</td>\n",
              "      <td>NaN</td>\n",
              "      <td>1737</td>\n",
              "      <td>0.848</td>\n",
              "      <td>1.010</td>\n",
              "      <td>NaN</td>\n",
              "    </tr>\n",
              "  </tbody>\n",
              "</table>\n",
              "</div>"
            ],
            "text/plain": [
              "              ID M/F Hand  Age  Educ  SES  MMSE  CDR  eTIV   nWBV    ASF  Delay\n",
              "0  OAS1_0001_MR1   F    R   74   2.0  3.0  29.0  0.0  1344  0.743  1.306    NaN\n",
              "1  OAS1_0002_MR1   F    R   55   4.0  1.0  29.0  0.0  1147  0.810  1.531    NaN\n",
              "2  OAS1_0003_MR1   F    R   73   4.0  3.0  27.0  0.5  1454  0.708  1.207    NaN\n",
              "3  OAS1_0004_MR1   M    R   28   NaN  NaN   NaN  NaN  1588  0.803  1.105    NaN\n",
              "4  OAS1_0005_MR1   M    R   18   NaN  NaN   NaN  NaN  1737  0.848  1.010    NaN"
            ]
          },
          "metadata": {
            "tags": []
          },
          "execution_count": 276
        }
      ]
    },
    {
      "cell_type": "code",
      "metadata": {
        "id": "3w3xtomKJtUt",
        "colab_type": "code",
        "colab": {
          "base_uri": "https://localhost:8080/",
          "height": 340
        },
        "outputId": "747c508d-462e-4780-cb41-9a71991d40a9"
      },
      "source": [
        "raw_data.info()"
      ],
      "execution_count": 277,
      "outputs": [
        {
          "output_type": "stream",
          "text": [
            "<class 'pandas.core.frame.DataFrame'>\n",
            "RangeIndex: 436 entries, 0 to 435\n",
            "Data columns (total 12 columns):\n",
            " #   Column  Non-Null Count  Dtype  \n",
            "---  ------  --------------  -----  \n",
            " 0   ID      436 non-null    object \n",
            " 1   M/F     436 non-null    object \n",
            " 2   Hand    436 non-null    object \n",
            " 3   Age     436 non-null    int64  \n",
            " 4   Educ    235 non-null    float64\n",
            " 5   SES     216 non-null    float64\n",
            " 6   MMSE    235 non-null    float64\n",
            " 7   CDR     235 non-null    float64\n",
            " 8   eTIV    436 non-null    int64  \n",
            " 9   nWBV    436 non-null    float64\n",
            " 10  ASF     436 non-null    float64\n",
            " 11  Delay   20 non-null     float64\n",
            "dtypes: float64(7), int64(2), object(3)\n",
            "memory usage: 41.0+ KB\n"
          ],
          "name": "stdout"
        }
      ]
    },
    {
      "cell_type": "code",
      "metadata": {
        "id": "JCYrE047KHxz",
        "colab_type": "code",
        "colab": {
          "base_uri": "https://localhost:8080/",
          "height": 238
        },
        "outputId": "2d71a054-b0fa-4b89-bf18-d2138263aa33"
      },
      "source": [
        "#check for null values\n",
        "raw_data.isnull().sum()"
      ],
      "execution_count": 278,
      "outputs": [
        {
          "output_type": "execute_result",
          "data": {
            "text/plain": [
              "ID         0\n",
              "M/F        0\n",
              "Hand       0\n",
              "Age        0\n",
              "Educ     201\n",
              "SES      220\n",
              "MMSE     201\n",
              "CDR      201\n",
              "eTIV       0\n",
              "nWBV       0\n",
              "ASF        0\n",
              "Delay    416\n",
              "dtype: int64"
            ]
          },
          "metadata": {
            "tags": []
          },
          "execution_count": 278
        }
      ]
    },
    {
      "cell_type": "code",
      "metadata": {
        "id": "s0nfYQ8r348g",
        "colab_type": "code",
        "colab": {
          "base_uri": "https://localhost:8080/",
          "height": 34
        },
        "outputId": "e036c6be-5f80-49bc-8b76-a40b7ad05ba5"
      },
      "source": [
        "raw_data.CDR.unique()"
      ],
      "execution_count": 279,
      "outputs": [
        {
          "output_type": "execute_result",
          "data": {
            "text/plain": [
              "array([0. , 0.5, nan, 1. , 2. ])"
            ]
          },
          "metadata": {
            "tags": []
          },
          "execution_count": 279
        }
      ]
    },
    {
      "cell_type": "markdown",
      "metadata": {
        "id": "7OPzPlpr35s4",
        "colab_type": "text"
      },
      "source": [
        "CDR is the target variable, which contains 4 classes (0, 0.5, 1, 2). There are only 235 non-null CDR values, therefore only these data will be used to train and validate the model. Later, we could predict CDR in the remaining data, but with no validation. "
      ]
    },
    {
      "cell_type": "code",
      "metadata": {
        "id": "YsXfvA0tKSfV",
        "colab_type": "code",
        "colab": {
          "base_uri": "https://localhost:8080/",
          "height": 297
        },
        "outputId": "d1b4d9e8-fc45-4283-e38b-e42a87cc5b07"
      },
      "source": [
        "raw_data.describe()"
      ],
      "execution_count": 280,
      "outputs": [
        {
          "output_type": "execute_result",
          "data": {
            "text/html": [
              "<div>\n",
              "<style scoped>\n",
              "    .dataframe tbody tr th:only-of-type {\n",
              "        vertical-align: middle;\n",
              "    }\n",
              "\n",
              "    .dataframe tbody tr th {\n",
              "        vertical-align: top;\n",
              "    }\n",
              "\n",
              "    .dataframe thead th {\n",
              "        text-align: right;\n",
              "    }\n",
              "</style>\n",
              "<table border=\"1\" class=\"dataframe\">\n",
              "  <thead>\n",
              "    <tr style=\"text-align: right;\">\n",
              "      <th></th>\n",
              "      <th>Age</th>\n",
              "      <th>Educ</th>\n",
              "      <th>SES</th>\n",
              "      <th>MMSE</th>\n",
              "      <th>CDR</th>\n",
              "      <th>eTIV</th>\n",
              "      <th>nWBV</th>\n",
              "      <th>ASF</th>\n",
              "      <th>Delay</th>\n",
              "    </tr>\n",
              "  </thead>\n",
              "  <tbody>\n",
              "    <tr>\n",
              "      <th>count</th>\n",
              "      <td>436.000000</td>\n",
              "      <td>235.000000</td>\n",
              "      <td>216.000000</td>\n",
              "      <td>235.00000</td>\n",
              "      <td>235.000000</td>\n",
              "      <td>436.000000</td>\n",
              "      <td>436.000000</td>\n",
              "      <td>436.000000</td>\n",
              "      <td>20.00000</td>\n",
              "    </tr>\n",
              "    <tr>\n",
              "      <th>mean</th>\n",
              "      <td>51.357798</td>\n",
              "      <td>3.178723</td>\n",
              "      <td>2.490741</td>\n",
              "      <td>27.06383</td>\n",
              "      <td>0.285106</td>\n",
              "      <td>1481.919725</td>\n",
              "      <td>0.791670</td>\n",
              "      <td>1.198894</td>\n",
              "      <td>20.55000</td>\n",
              "    </tr>\n",
              "    <tr>\n",
              "      <th>std</th>\n",
              "      <td>25.269862</td>\n",
              "      <td>1.311510</td>\n",
              "      <td>1.120593</td>\n",
              "      <td>3.69687</td>\n",
              "      <td>0.383405</td>\n",
              "      <td>158.740866</td>\n",
              "      <td>0.059937</td>\n",
              "      <td>0.128682</td>\n",
              "      <td>23.86249</td>\n",
              "    </tr>\n",
              "    <tr>\n",
              "      <th>min</th>\n",
              "      <td>18.000000</td>\n",
              "      <td>1.000000</td>\n",
              "      <td>1.000000</td>\n",
              "      <td>14.00000</td>\n",
              "      <td>0.000000</td>\n",
              "      <td>1123.000000</td>\n",
              "      <td>0.644000</td>\n",
              "      <td>0.881000</td>\n",
              "      <td>1.00000</td>\n",
              "    </tr>\n",
              "    <tr>\n",
              "      <th>25%</th>\n",
              "      <td>23.000000</td>\n",
              "      <td>2.000000</td>\n",
              "      <td>2.000000</td>\n",
              "      <td>26.00000</td>\n",
              "      <td>0.000000</td>\n",
              "      <td>1367.750000</td>\n",
              "      <td>0.742750</td>\n",
              "      <td>1.111750</td>\n",
              "      <td>2.75000</td>\n",
              "    </tr>\n",
              "    <tr>\n",
              "      <th>50%</th>\n",
              "      <td>54.000000</td>\n",
              "      <td>3.000000</td>\n",
              "      <td>2.000000</td>\n",
              "      <td>29.00000</td>\n",
              "      <td>0.000000</td>\n",
              "      <td>1475.500000</td>\n",
              "      <td>0.809000</td>\n",
              "      <td>1.190000</td>\n",
              "      <td>11.00000</td>\n",
              "    </tr>\n",
              "    <tr>\n",
              "      <th>75%</th>\n",
              "      <td>74.000000</td>\n",
              "      <td>4.000000</td>\n",
              "      <td>3.000000</td>\n",
              "      <td>30.00000</td>\n",
              "      <td>0.500000</td>\n",
              "      <td>1579.250000</td>\n",
              "      <td>0.842000</td>\n",
              "      <td>1.284250</td>\n",
              "      <td>30.75000</td>\n",
              "    </tr>\n",
              "    <tr>\n",
              "      <th>max</th>\n",
              "      <td>96.000000</td>\n",
              "      <td>5.000000</td>\n",
              "      <td>5.000000</td>\n",
              "      <td>30.00000</td>\n",
              "      <td>2.000000</td>\n",
              "      <td>1992.000000</td>\n",
              "      <td>0.893000</td>\n",
              "      <td>1.563000</td>\n",
              "      <td>89.00000</td>\n",
              "    </tr>\n",
              "  </tbody>\n",
              "</table>\n",
              "</div>"
            ],
            "text/plain": [
              "              Age        Educ         SES  ...        nWBV         ASF     Delay\n",
              "count  436.000000  235.000000  216.000000  ...  436.000000  436.000000  20.00000\n",
              "mean    51.357798    3.178723    2.490741  ...    0.791670    1.198894  20.55000\n",
              "std     25.269862    1.311510    1.120593  ...    0.059937    0.128682  23.86249\n",
              "min     18.000000    1.000000    1.000000  ...    0.644000    0.881000   1.00000\n",
              "25%     23.000000    2.000000    2.000000  ...    0.742750    1.111750   2.75000\n",
              "50%     54.000000    3.000000    2.000000  ...    0.809000    1.190000  11.00000\n",
              "75%     74.000000    4.000000    3.000000  ...    0.842000    1.284250  30.75000\n",
              "max     96.000000    5.000000    5.000000  ...    0.893000    1.563000  89.00000\n",
              "\n",
              "[8 rows x 9 columns]"
            ]
          },
          "metadata": {
            "tags": []
          },
          "execution_count": 280
        }
      ]
    },
    {
      "cell_type": "code",
      "metadata": {
        "id": "F7QwYEg2NMci",
        "colab_type": "code",
        "colab": {
          "base_uri": "https://localhost:8080/",
          "height": 34
        },
        "outputId": "98e3f296-1799-46a2-dba6-2e3732ceedca"
      },
      "source": [
        "raw_data.Hand.unique()"
      ],
      "execution_count": 281,
      "outputs": [
        {
          "output_type": "execute_result",
          "data": {
            "text/plain": [
              "array(['R'], dtype=object)"
            ]
          },
          "metadata": {
            "tags": []
          },
          "execution_count": 281
        }
      ]
    },
    {
      "cell_type": "markdown",
      "metadata": {
        "id": "NCSNCvyN3FXf",
        "colab_type": "text"
      },
      "source": [
        "This dataset only contains right-handed individuals, so we can drop this column."
      ]
    },
    {
      "cell_type": "code",
      "metadata": {
        "id": "68KEeCVoNVLr",
        "colab_type": "code",
        "colab": {
          "base_uri": "https://localhost:8080/",
          "height": 306
        },
        "outputId": "83913568-a7fa-495e-f6ba-8e2e923575d6"
      },
      "source": [
        "data=raw_data.dropna(axis=0, subset=['CDR'])\n",
        "data=data.drop('Hand', axis=1)\n",
        "data=data.drop('ID',axis=1)\n",
        "data.info()"
      ],
      "execution_count": 282,
      "outputs": [
        {
          "output_type": "stream",
          "text": [
            "<class 'pandas.core.frame.DataFrame'>\n",
            "Int64Index: 235 entries, 0 to 415\n",
            "Data columns (total 10 columns):\n",
            " #   Column  Non-Null Count  Dtype  \n",
            "---  ------  --------------  -----  \n",
            " 0   M/F     235 non-null    object \n",
            " 1   Age     235 non-null    int64  \n",
            " 2   Educ    235 non-null    float64\n",
            " 3   SES     216 non-null    float64\n",
            " 4   MMSE    235 non-null    float64\n",
            " 5   CDR     235 non-null    float64\n",
            " 6   eTIV    235 non-null    int64  \n",
            " 7   nWBV    235 non-null    float64\n",
            " 8   ASF     235 non-null    float64\n",
            " 9   Delay   0 non-null      float64\n",
            "dtypes: float64(7), int64(2), object(1)\n",
            "memory usage: 20.2+ KB\n"
          ],
          "name": "stdout"
        }
      ]
    },
    {
      "cell_type": "code",
      "metadata": {
        "id": "T4qAggz-PYdj",
        "colab_type": "code",
        "colab": {}
      },
      "source": [
        "#no non-null values for \"delay\", so drop this column too\n",
        "data=data.drop('Delay', axis=1)"
      ],
      "execution_count": 283,
      "outputs": []
    },
    {
      "cell_type": "code",
      "metadata": {
        "id": "rkMwqlluCkRQ",
        "colab_type": "code",
        "colab": {
          "base_uri": "https://localhost:8080/",
          "height": 34
        },
        "outputId": "760c0ba7-31bc-4f21-c37a-5c9aea85acf4"
      },
      "source": [
        "data['M/F'].unique()"
      ],
      "execution_count": 284,
      "outputs": [
        {
          "output_type": "execute_result",
          "data": {
            "text/plain": [
              "array(['F', 'M'], dtype=object)"
            ]
          },
          "metadata": {
            "tags": []
          },
          "execution_count": 284
        }
      ]
    },
    {
      "cell_type": "markdown",
      "metadata": {
        "id": "JX95OA6kCtwc",
        "colab_type": "text"
      },
      "source": [
        "M/F will have to be one-hot encoded. "
      ]
    },
    {
      "cell_type": "code",
      "metadata": {
        "id": "VtEXhDRICtBl",
        "colab_type": "code",
        "colab": {
          "base_uri": "https://localhost:8080/",
          "height": 102
        },
        "outputId": "a14e22d1-b02f-426a-a2ac-ff2a6094e1c5"
      },
      "source": [
        "#what's the distribution of dementia ratings among this dataset?\n",
        "data.CDR.value_counts()"
      ],
      "execution_count": 285,
      "outputs": [
        {
          "output_type": "execute_result",
          "data": {
            "text/plain": [
              "0.0    135\n",
              "0.5     70\n",
              "1.0     28\n",
              "2.0      2\n",
              "Name: CDR, dtype: int64"
            ]
          },
          "metadata": {
            "tags": []
          },
          "execution_count": 285
        }
      ]
    },
    {
      "cell_type": "markdown",
      "metadata": {
        "id": "-n9kANZXDCwd",
        "colab_type": "text"
      },
      "source": [
        "This data is skewed towards lower values of CDR. We will have to consider this when evaluating models. Precision and recall should be the primary metrics, instead of accuracy.  \n",
        "\n"
      ]
    },
    {
      "cell_type": "code",
      "metadata": {
        "id": "W7BSikqvPlhl",
        "colab_type": "code",
        "colab": {
          "base_uri": "https://localhost:8080/",
          "height": 289
        },
        "outputId": "628aad29-c4fb-4bd4-e48d-f1dbe7075103"
      },
      "source": [
        "data.info()"
      ],
      "execution_count": 286,
      "outputs": [
        {
          "output_type": "stream",
          "text": [
            "<class 'pandas.core.frame.DataFrame'>\n",
            "Int64Index: 235 entries, 0 to 415\n",
            "Data columns (total 9 columns):\n",
            " #   Column  Non-Null Count  Dtype  \n",
            "---  ------  --------------  -----  \n",
            " 0   M/F     235 non-null    object \n",
            " 1   Age     235 non-null    int64  \n",
            " 2   Educ    235 non-null    float64\n",
            " 3   SES     216 non-null    float64\n",
            " 4   MMSE    235 non-null    float64\n",
            " 5   CDR     235 non-null    float64\n",
            " 6   eTIV    235 non-null    int64  \n",
            " 7   nWBV    235 non-null    float64\n",
            " 8   ASF     235 non-null    float64\n",
            "dtypes: float64(6), int64(2), object(1)\n",
            "memory usage: 18.4+ KB\n"
          ],
          "name": "stdout"
        }
      ]
    },
    {
      "cell_type": "markdown",
      "metadata": {
        "id": "1XLDI3_AQ9t-",
        "colab_type": "text"
      },
      "source": [
        "SES is the only category with null values now. How should we impute them?"
      ]
    },
    {
      "cell_type": "code",
      "metadata": {
        "id": "XunggRjmPoVV",
        "colab_type": "code",
        "colab": {
          "base_uri": "https://localhost:8080/",
          "height": 432
        },
        "outputId": "770b02fb-aaf1-495a-d208-048fd06884a6"
      },
      "source": [
        "sns.boxplot(x=data.SES)\n",
        "data.SES.describe()"
      ],
      "execution_count": 287,
      "outputs": [
        {
          "output_type": "execute_result",
          "data": {
            "text/plain": [
              "count    216.000000\n",
              "mean       2.490741\n",
              "std        1.120593\n",
              "min        1.000000\n",
              "25%        2.000000\n",
              "50%        2.000000\n",
              "75%        3.000000\n",
              "max        5.000000\n",
              "Name: SES, dtype: float64"
            ]
          },
          "metadata": {
            "tags": []
          },
          "execution_count": 287
        },
        {
          "output_type": "display_data",
          "data": {
            "image/png": "[encoded data removed]",
            "text/plain": [
              "<Figure size 432x288 with 1 Axes>"
            ]
          },
          "metadata": {
            "tags": []
          }
        }
      ]
    },
    {
      "cell_type": "markdown",
      "metadata": {
        "id": "q9j7GIoISc9p",
        "colab_type": "text"
      },
      "source": [
        "Since there is only one outlier, SES is categorical, and the dataset is relatively small, we'll try KNN imputer to start."
      ]
    },
    {
      "cell_type": "code",
      "metadata": {
        "id": "sSPSL2-URIm-",
        "colab_type": "code",
        "colab": {}
      },
      "source": [
        "\n",
        "#Let's look at the pairplots\n",
        "#sns.set_style('darkgrid')\n",
        "#sns.pairplot(data, diag_kind=\"kde\")\n"
      ],
      "execution_count": 288,
      "outputs": []
    },
    {
      "cell_type": "markdown",
      "metadata": {
        "id": "01dLxP_jFfBt",
        "colab_type": "text"
      },
      "source": [
        "eTIV and ASF are related by definition. This mulitcolinearity shouldn't be a problem if we use tree classificiation, but let's remove ASF for now anyway."
      ]
    },
    {
      "cell_type": "code",
      "metadata": {
        "id": "wBGVohTCFtvR",
        "colab_type": "code",
        "colab": {}
      },
      "source": [
        "data=data.drop('ASF', axis=1)"
      ],
      "execution_count": 289,
      "outputs": []
    },
    {
      "cell_type": "markdown",
      "metadata": {
        "id": "Dw6mDKW_-Glx",
        "colab_type": "text"
      },
      "source": [
        "There doesn't appear to be any apparent correlations between CDR and other variables. Age and nWBV are negatively correlated. Let's build a simple model without added interaction features for now. "
      ]
    },
    {
      "cell_type": "code",
      "metadata": {
        "id": "_l9ETcLFqGwl",
        "colab_type": "code",
        "colab": {
          "base_uri": "https://localhost:8080/",
          "height": 307
        },
        "outputId": "fdf8b534-09a5-4089-a184-d3db2950793b"
      },
      "source": [
        "#let's transform MMSE data since it's distribution is left skewed\n",
        "from scipy.stats import boxcox\n",
        "\n",
        "original_data=data['MMSE']\n",
        "# transform training data & save lambda value \n",
        "fitted_data, fitted_lambda = boxcox(original_data) \n",
        "  \n",
        "# creating axes to draw plots \n",
        "fig, ax = plt.subplots(1, 2) \n",
        "  \n",
        "# plotting the original data(non-normal) and  \n",
        "# fitted data (normal) \n",
        "sns.distplot(original_data, hist = False, kde = True, \n",
        "            kde_kws = {'shade': True, 'linewidth': 2},  \n",
        "            label = \"Non-Normal\", color =\"green\", ax = ax[0]) \n",
        "  \n",
        "sns.distplot(fitted_data, hist = False, kde = True, \n",
        "            kde_kws = {'shade': True, 'linewidth': 2},  \n",
        "            label = \"Normal\", color =\"green\", ax = ax[1]) \n",
        "  \n",
        "print(\"Lambda value used for Transformation: {}\".format(fitted_lambda)) \n"
      ],
      "execution_count": 290,
      "outputs": [
        {
          "output_type": "stream",
          "text": [
            "Lambda value used for Transformation: 6.479097841625844\n"
          ],
          "name": "stdout"
        },
        {
          "output_type": "display_data",
          "data": {
            "image/png": "[encoded data removed]",
            "text/plain": [
              "<Figure size 432x288 with 2 Axes>"
            ]
          },
          "metadata": {
            "tags": []
          }
        }
      ]
    },
    {
      "cell_type": "code",
      "metadata": {
        "id": "0HEBLI-rrXbk",
        "colab_type": "code",
        "colab": {}
      },
      "source": [
        "#replace MMSE column with transformed data\n",
        "transformedMMSE=pd.Series(fitted_data)\n",
        "transformedMMSE.index = data.index\n",
        "data['MMSE']=transformedMMSE"
      ],
      "execution_count": 291,
      "outputs": []
    },
    {
      "cell_type": "markdown",
      "metadata": {
        "id": "cI31a4N9_zrf",
        "colab_type": "text"
      },
      "source": [
        "##Preprocessing"
      ]
    },
    {
      "cell_type": "markdown",
      "metadata": {
        "id": "g4iMtfK4_3DL",
        "colab_type": "text"
      },
      "source": [
        "1. Separate target variable + Train test split\n",
        "2. One-hot encode M/F\n",
        "3. KNN Imputer on missing values in SES\n",
        "4. Scale numerical variables: MMSE, nWBV, eTIV"
      ]
    },
    {
      "cell_type": "code",
      "metadata": {
        "id": "rOwoPU5xS2lQ",
        "colab_type": "code",
        "colab": {}
      },
      "source": [
        "#separate target variable (CDR) from features\n",
        "\n",
        "data1=data.copy()\n",
        "y=data1.CDR.copy()\n",
        "X=data1.drop('CDR', axis=1)"
      ],
      "execution_count": 292,
      "outputs": []
    },
    {
      "cell_type": "code",
      "metadata": {
        "id": "SvMUnTJ0HpsS",
        "colab_type": "code",
        "colab": {
          "base_uri": "https://localhost:8080/",
          "height": 318
        },
        "outputId": "e18c4342-369d-48bd-e81d-a98047d95026"
      },
      "source": [
        "plt.hist(y)"
      ],
      "execution_count": 293,
      "outputs": [
        {
          "output_type": "execute_result",
          "data": {
            "text/plain": [
              "(array([135.,   0.,  70.,   0.,   0.,  28.,   0.,   0.,   0.,   2.]),\n",
              " array([0. , 0.2, 0.4, 0.6, 0.8, 1. , 1.2, 1.4, 1.6, 1.8, 2. ]),\n",
              " <a list of 10 Patch objects>)"
            ]
          },
          "metadata": {
            "tags": []
          },
          "execution_count": 293
        },
        {
          "output_type": "display_data",
          "data": {
            "image/png": "[encoded data removed]",
            "text/plain": [
              "<Figure size 432x288 with 1 Axes>"
            ]
          },
          "metadata": {
            "tags": []
          }
        }
      ]
    },
    {
      "cell_type": "code",
      "metadata": {
        "id": "O2X_eWAGHsbo",
        "colab_type": "code",
        "colab": {
          "base_uri": "https://localhost:8080/",
          "height": 204
        },
        "outputId": "cdc99e45-a986-4d0d-f201-af9c00d3d0b8"
      },
      "source": [
        "X.head()"
      ],
      "execution_count": 294,
      "outputs": [
        {
          "output_type": "execute_result",
          "data": {
            "text/html": [
              "<div>\n",
              "<style scoped>\n",
              "    .dataframe tbody tr th:only-of-type {\n",
              "        vertical-align: middle;\n",
              "    }\n",
              "\n",
              "    .dataframe tbody tr th {\n",
              "        vertical-align: top;\n",
              "    }\n",
              "\n",
              "    .dataframe thead th {\n",
              "        text-align: right;\n",
              "    }\n",
              "</style>\n",
              "<table border=\"1\" class=\"dataframe\">\n",
              "  <thead>\n",
              "    <tr style=\"text-align: right;\">\n",
              "      <th></th>\n",
              "      <th>M/F</th>\n",
              "      <th>Age</th>\n",
              "      <th>Educ</th>\n",
              "      <th>SES</th>\n",
              "      <th>MMSE</th>\n",
              "      <th>eTIV</th>\n",
              "      <th>nWBV</th>\n",
              "    </tr>\n",
              "  </thead>\n",
              "  <tbody>\n",
              "    <tr>\n",
              "      <th>0</th>\n",
              "      <td>F</td>\n",
              "      <td>74</td>\n",
              "      <td>2.0</td>\n",
              "      <td>3.0</td>\n",
              "      <td>4.607923e+08</td>\n",
              "      <td>1344</td>\n",
              "      <td>0.743</td>\n",
              "    </tr>\n",
              "    <tr>\n",
              "      <th>1</th>\n",
              "      <td>F</td>\n",
              "      <td>55</td>\n",
              "      <td>4.0</td>\n",
              "      <td>1.0</td>\n",
              "      <td>4.607923e+08</td>\n",
              "      <td>1147</td>\n",
              "      <td>0.810</td>\n",
              "    </tr>\n",
              "    <tr>\n",
              "      <th>2</th>\n",
              "      <td>F</td>\n",
              "      <td>73</td>\n",
              "      <td>4.0</td>\n",
              "      <td>3.0</td>\n",
              "      <td>2.900223e+08</td>\n",
              "      <td>1454</td>\n",
              "      <td>0.708</td>\n",
              "    </tr>\n",
              "    <tr>\n",
              "      <th>8</th>\n",
              "      <td>M</td>\n",
              "      <td>74</td>\n",
              "      <td>5.0</td>\n",
              "      <td>2.0</td>\n",
              "      <td>5.739824e+08</td>\n",
              "      <td>1636</td>\n",
              "      <td>0.689</td>\n",
              "    </tr>\n",
              "    <tr>\n",
              "      <th>9</th>\n",
              "      <td>F</td>\n",
              "      <td>52</td>\n",
              "      <td>3.0</td>\n",
              "      <td>2.0</td>\n",
              "      <td>5.739824e+08</td>\n",
              "      <td>1321</td>\n",
              "      <td>0.827</td>\n",
              "    </tr>\n",
              "  </tbody>\n",
              "</table>\n",
              "</div>"
            ],
            "text/plain": [
              "  M/F  Age  Educ  SES          MMSE  eTIV   nWBV\n",
              "0   F   74   2.0  3.0  4.607923e+08  1344  0.743\n",
              "1   F   55   4.0  1.0  4.607923e+08  1147  0.810\n",
              "2   F   73   4.0  3.0  2.900223e+08  1454  0.708\n",
              "8   M   74   5.0  2.0  5.739824e+08  1636  0.689\n",
              "9   F   52   3.0  2.0  5.739824e+08  1321  0.827"
            ]
          },
          "metadata": {
            "tags": []
          },
          "execution_count": 294
        }
      ]
    },
    {
      "cell_type": "code",
      "metadata": {
        "id": "o-vo3B8jH2hd",
        "colab_type": "code",
        "colab": {
          "base_uri": "https://localhost:8080/",
          "height": 51
        },
        "outputId": "982f83e3-0192-4e73-d013-61f9b412c92d"
      },
      "source": [
        "from sklearn.model_selection import train_test_split\n",
        "\n",
        "X_train, X_test, y_train, y_test= train_test_split(X, y, test_size=0.2, random_state=6)\n",
        "print(X_train.shape, y_train.shape)\n",
        "print(X_test.shape, y_test.shape)"
      ],
      "execution_count": 295,
      "outputs": [
        {
          "output_type": "stream",
          "text": [
            "(188, 7) (188,)\n",
            "(47, 7) (47,)\n"
          ],
          "name": "stdout"
        }
      ]
    },
    {
      "cell_type": "code",
      "metadata": {
        "id": "bxMHPZuzJk_r",
        "colab_type": "code",
        "colab": {}
      },
      "source": [
        "from sklearn.preprocessing import StandardScaler, OneHotEncoder\n",
        "encoder=OneHotEncoder(handle_unknown='ignore')\n",
        "\n",
        "#fit the encoder to training data, and transform training and test data\n",
        "OH_train_data=encoder.fit_transform(X_train[['M/F']]).toarray()\n",
        "OH_test_data=encoder.transform(X_test[['M/F']]).toarray()\n",
        "categories=encoder.categories_[0].tolist()\n",
        "\n",
        "OH_train_data=pd.DataFrame(OH_train_data,columns=categories)\n",
        "OH_test_data=pd.DataFrame(OH_test_data,columns=categories)\n",
        "\n",
        "OH_train_data.index = X_train.index\n",
        "OH_test_data.index = X_test.index\n",
        "\n",
        "#remove original M/F column from X \n",
        "num_X_train=X_train.drop('M/F', axis=1)\n",
        "num_X_test=X_test.drop('M/F', axis=1)\n",
        "\n",
        "#concatenate one hot encoded series to X\n",
        "OH_X_train = pd.concat([num_X_train, OH_train_data], axis=1)\n",
        "OH_X_test = pd.concat([num_X_test, OH_test_data], axis=1)\n"
      ],
      "execution_count": 296,
      "outputs": []
    },
    {
      "cell_type": "code",
      "metadata": {
        "id": "jIBxq3rrPjYs",
        "colab_type": "code",
        "colab": {}
      },
      "source": [
        "#impute missing values for SES using KNN\n",
        "from sklearn.impute import KNNImputer\n",
        "\n",
        "imputer=KNNImputer()\n",
        "imp_train_data=pd.DataFrame(imputer.fit_transform(X_train[['SES']]))\n",
        "imp_test_data=pd.DataFrame(imputer.transform(X_test[['SES']]))\n",
        "\n",
        "imp_train_data.index = X_train.index\n",
        "imp_test_data.index = X_test.index\n",
        "\n",
        "#replace previous column with new imputed column\n",
        "OH_X_train['SES']=imp_train_data\n",
        "OH_X_test['SES']=imp_test_data"
      ],
      "execution_count": 297,
      "outputs": []
    },
    {
      "cell_type": "code",
      "metadata": {
        "id": "OGhaCqkvWOIg",
        "colab_type": "code",
        "colab": {}
      },
      "source": [
        "#MMSE, nWBV, eTIV all appear to be normally distributed so we will use standard scaler\n",
        "scaler=StandardScaler()\n",
        "\n",
        "num_cols=['MMSE', 'nWBV', 'eTIV']\n",
        "scaled_X_train=pd.DataFrame(scaler.fit_transform(X_train[num_cols]))\n",
        "scaled_X_test=pd.DataFrame(scaler.transform(X_test[num_cols]))\n",
        "\n",
        "scaled_X_train.index = X_train.index\n",
        "scaled_X_test.index = X_test.index\n",
        "\n",
        "OH_X_train[num_cols]=scaled_X_train\n",
        "OH_X_test[num_cols]=scaled_X_test"
      ],
      "execution_count": 298,
      "outputs": []
    },
    {
      "cell_type": "code",
      "metadata": {
        "id": "aaj641x2W3hu",
        "colab_type": "code",
        "colab": {}
      },
      "source": [
        "#renaming final processed datasets\n",
        "X_train_processed=OH_X_train.copy()\n",
        "X_test_processed=OH_X_test.copy()\n"
      ],
      "execution_count": 299,
      "outputs": []
    },
    {
      "cell_type": "code",
      "metadata": {
        "id": "n1kgOGzddzXk",
        "colab_type": "code",
        "colab": {}
      },
      "source": [
        "#target data is currently in 4 categories: 0, 0.5, 1 and 2. Since 0.5 is a float and not an int, classifier models won't like this\n",
        "#we will need to map output to new values\n",
        "\n",
        "y_train_processed=y_train.map({0:0, 0.5:1, 1:2, 2:3}).astype(int)\n",
        "y_test_processed=y_test.map({0:0, 0.5:1, 1:2, 2:3}).astype(int)\n",
        "#new output for CDR is 0, 1, 2, 3 instead of 0, 0.5, 1, and 2"
      ],
      "execution_count": 300,
      "outputs": []
    },
    {
      "cell_type": "markdown",
      "metadata": {
        "id": "7O_hV7CUYFcV",
        "colab_type": "text"
      },
      "source": [
        "##Exploring Models"
      ]
    },
    {
      "cell_type": "markdown",
      "metadata": {
        "id": "XgRyyxU0YwHY",
        "colab_type": "text"
      },
      "source": [
        "1. Train several classifiers using default params \n",
        "2. k-fold cross validation for each model\n",
        "3. Compare performance of each model\n",
        "4. Investigate feature importance \n",
        "5. Feature engineering"
      ]
    },
    {
      "cell_type": "code",
      "metadata": {
        "id": "nDFMTQM7nbkn",
        "colab_type": "code",
        "colab": {}
      },
      "source": [
        "from sklearn.ensemble import RandomForestClassifier\n",
        "from sklearn.linear_model import LogisticRegression\n",
        "from xgboost import XGBClassifier\n",
        "from sklearn.naive_bayes import BernoulliNB\n",
        "from sklearn.svm import SVC\n",
        "\n",
        "#create default models for initial comparison\n",
        "forest_df=RandomForestClassifier(random_state=6)\n",
        "logistic_df=LogisticRegression(solver='newton-cg', multi_class='multinomial', random_state=6) #params changed in order to converge on a multiclass target \n",
        "xgb_df=XGBClassifier(random_state=6)\n",
        "nb_df=BernoulliNB()\n",
        "svc_df= SVC(kernel='linear', random_state=6) #default kernel (rbf) gave a much lower score, so tried others and linear was comparable"
      ],
      "execution_count": 301,
      "outputs": []
    },
    {
      "cell_type": "code",
      "metadata": {
        "id": "RUjQDByXdvW_",
        "colab_type": "code",
        "colab": {
          "base_uri": "https://localhost:8080/",
          "height": 102
        },
        "outputId": "2a779c76-316a-479f-a61e-425441256d3e"
      },
      "source": [
        "from sklearn.model_selection import cross_val_score\n",
        "\n",
        "models= [forest_df, logistic_df, xgb_df, nb_df, svc_df]\n",
        "for model in models:\n",
        "  score = cross_val_score(model, X_train_processed, y_train_processed, scoring='f1_weighted')\n",
        "  model_name = type(model).__name__\n",
        "  print('Model:{}, Average score and std dev across 5 folds {:0.2}(+/{:0.2})'.format(model_name, score.mean(), score.std()))"
      ],
      "execution_count": 302,
      "outputs": [
        {
          "output_type": "stream",
          "text": [
            "Model:RandomForestClassifier, Average score and std dev across 5 folds 0.72(+/0.049)\n",
            "Model:LogisticRegression, Average score and std dev across 5 folds 0.7(+/0.042)\n",
            "Model:XGBClassifier, Average score and std dev across 5 folds 0.7(+/0.033)\n",
            "Model:BernoulliNB, Average score and std dev across 5 folds 0.65(+/0.025)\n",
            "Model:SVC, Average score and std dev across 5 folds 0.7(+/0.069)\n"
          ],
          "name": "stdout"
        }
      ]
    },
    {
      "cell_type": "markdown",
      "metadata": {
        "id": "dW3TMqm9RwYe",
        "colab_type": "text"
      },
      "source": [
        "With mostly default parameters, the models all have similar cross validation scores "
      ]
    },
    {
      "cell_type": "code",
      "metadata": {
        "id": "RYszbX80zYsi",
        "colab_type": "code",
        "colab": {}
      },
      "source": [
        "#generate confusion matrix\n",
        "from sklearn.metrics import plot_confusion_matrix, precision_score, recall_score, f1_score\n",
        "def conf_matrix(model, X, y, Xtest, ytest):\n",
        "  model.fit(X,y)\n",
        "  preds=model.predict(Xtest)\n",
        "  prec=precision_score(y_test_processed, preds,\n",
        "                       average='weighted',\n",
        "                       zero_division=1)\n",
        "  rec=recall_score(y_test_processed,preds,\n",
        "                   average='weighted',\n",
        "                   zero_division=1)\n",
        "  f1=f1_score(y_test_processed, preds,\n",
        "                       average='weighted')\n",
        "\n",
        "  cm=plot_confusion_matrix(model,Xtest,ytest,\n",
        "                           labels=[0,1,2,3],\n",
        "                           cmap=plt.cm.Blues)\n",
        "\n",
        "  model_name=type(model).__name__\n",
        "  cm.ax_.set_title(model_name)\n",
        "\n",
        "  print('Model: {:<25} Precision: {:<10.2} Recall: {:<10.2} F1 on Test Set: {:<10.2}'.format(model_name,prec,rec,f1))\n",
        "  return cm"
      ],
      "execution_count": 303,
      "outputs": []
    },
    {
      "cell_type": "code",
      "metadata": {
        "id": "US5XxmSu0xfb",
        "colab_type": "code",
        "colab": {
          "base_uri": "https://localhost:8080/",
          "height": 1000
        },
        "outputId": "0b0728c7-1ad3-4278-ffd0-8056e3ac354a"
      },
      "source": [
        "for model in models:\n",
        "  conf_matrix(model, X_train_processed, y_train_processed, X_test_processed, y_test_processed)"
      ],
      "execution_count": 304,
      "outputs": [
        {
          "output_type": "stream",
          "text": [
            "Model: RandomForestClassifier    Precision: 0.7        Recall: 0.66       F1 on Test Set: 0.65      \n",
            "Model: LogisticRegression        Precision: 0.73       Recall: 0.68       F1 on Test Set: 0.67      \n",
            "Model: XGBClassifier             Precision: 0.68       Recall: 0.6        F1 on Test Set: 0.6       \n",
            "Model: BernoulliNB               Precision: 0.74       Recall: 0.7        F1 on Test Set: 0.64      \n",
            "Model: SVC                       Precision: 0.73       Recall: 0.66       F1 on Test Set: 0.66      \n"
          ],
          "name": "stdout"
        },
        {
          "output_type": "display_data",
          "data": {
            "image/png": "[encoded data removed]",
            "text/plain": [
              "<Figure size 432x288 with 2 Axes>"
            ]
          },
          "metadata": {
            "tags": []
          }
        },
        {
          "output_type": "display_data",
          "data": {
            "image/png": "[encoded data removed]",
            "text/plain": [
              "<Figure size 432x288 with 2 Axes>"
            ]
          },
          "metadata": {
            "tags": []
          }
        },
        {
          "output_type": "display_data",
          "data": {
            "image/png": "[encoded data removed]",
            "text/plain": [
              "<Figure size 432x288 with 2 Axes>"
            ]
          },
          "metadata": {
            "tags": []
          }
        },
        {
          "output_type": "display_data",
          "data": {
            "image/png": "[encoded data removed]",
            "text/plain": [
              "<Figure size 432x288 with 2 Axes>"
            ]
          },
          "metadata": {
            "tags": []
          }
        },
        {
          "output_type": "display_data",
          "data": {
            "image/png": "[encoded data removed]",
            "text/plain": [
              "<Figure size 432x288 with 2 Axes>"
            ]
          },
          "metadata": {
            "tags": []
          }
        }
      ]
    },
    {
      "cell_type": "code",
      "metadata": {
        "id": "gqb0CUublN6C",
        "colab_type": "code",
        "colab": {
          "base_uri": "https://localhost:8080/",
          "height": 299
        },
        "outputId": "7be90dbe-eec7-436c-94f1-90cb5981f21a"
      },
      "source": [
        "#quickly see what the most important features are for the random forest model using feature_importances\n",
        "forest_df.fit(X_train_processed,y_train_processed)\n",
        "print(forest_df.feature_importances_) #use inbuilt class feature_importances of tree based classifiers\n",
        "#plot graph of feature importances for better visualization\n",
        "feat_importances = pd.Series(forest_df.feature_importances_, index=X_train_processed.columns)\n",
        "feat_importances.nlargest(10).plot(kind='barh')\n",
        "plt.show()"
      ],
      "execution_count": 305,
      "outputs": [
        {
          "output_type": "stream",
          "text": [
            "[0.16517994 0.06830279 0.07515902 0.29729337 0.14828966 0.20406565\n",
            " 0.01941103 0.02229854]\n"
          ],
          "name": "stdout"
        },
        {
          "output_type": "display_data",
          "data": {
            "image/png": "[encoded data removed]",
            "text/plain": [
              "<Figure size 432x288 with 1 Axes>"
            ]
          },
          "metadata": {
            "tags": []
          }
        }
      ]
    },
    {
      "cell_type": "markdown",
      "metadata": {
        "id": "-FA7D-6jM67T",
        "colab_type": "text"
      },
      "source": [
        "feature importances may be biased to high cardinality features [sklearn docs]. We will try using permutation feature importance as well. \"This procedure breaks the relationship between the feature and the target, thus the drop in the model score is indicative of how much the model depends on the feature.\" We can also use it for non-tree based classifiers."
      ]
    },
    {
      "cell_type": "code",
      "metadata": {
        "id": "4yj_IHNWNQJ-",
        "colab_type": "code",
        "colab": {
          "base_uri": "https://localhost:8080/",
          "height": 265
        },
        "outputId": "5823368c-ba42-4bb0-b665-08da7b09308d"
      },
      "source": [
        "#try with random forest first\n",
        "from sklearn.inspection import permutation_importance\n",
        "\n",
        "r = permutation_importance(forest_df, X_test_processed, y_test_processed,\n",
        "                           n_repeats=30,\n",
        "                           random_state=0)\n",
        "p_importances = pd.Series(r.importances_mean, index=X_train_processed.columns)\n",
        "p_importances.plot(kind='barh')\n",
        "plt.show()\n"
      ],
      "execution_count": 306,
      "outputs": [
        {
          "output_type": "display_data",
          "data": {
            "image/png": "[encoded data removed]",
            "text/plain": [
              "<Figure size 432x288 with 1 Axes>"
            ]
          },
          "metadata": {
            "tags": []
          }
        }
      ]
    },
    {
      "cell_type": "markdown",
      "metadata": {
        "id": "00yoO5CrREwi",
        "colab_type": "text"
      },
      "source": [
        "The negative scores indicate that substituting the features with random permutations (noise) are better than the original features. Based on this assessment, MMSE, SES, and Age are the probably the most important features in this model. Let's look at the other models too."
      ]
    },
    {
      "cell_type": "code",
      "metadata": {
        "id": "Y1b38a2KRtF4",
        "colab_type": "code",
        "colab": {
          "base_uri": "https://localhost:8080/",
          "height": 1000
        },
        "outputId": "399fa814-b9e2-4667-b792-55802a33b2e6"
      },
      "source": [
        "for model in models: \n",
        "  model_name = type(model).__name__\n",
        "  model.fit(X_train_processed, y_train_processed)\n",
        "  r = permutation_importance(model, X_test_processed, y_test_processed,\n",
        "                           n_repeats=30,\n",
        "                           random_state=0)\n",
        "  p_importances = pd.Series(r.importances_mean, index=X_train_processed.columns)\n",
        "  p_importances.plot(kind='barh')\n",
        "  plt.title(model_name)\n",
        "  plt.show()\n"
      ],
      "execution_count": 307,
      "outputs": [
        {
          "output_type": "display_data",
          "data": {
            "image/png": "[encoded data removed]",
            "text/plain": [
              "<Figure size 432x288 with 1 Axes>"
            ]
          },
          "metadata": {
            "tags": []
          }
        },
        {
          "output_type": "display_data",
          "data": {
            "image/png": "[encoded data removed]",
            "text/plain": [
              "<Figure size 432x288 with 1 Axes>"
            ]
          },
          "metadata": {
            "tags": []
          }
        },
        {
          "output_type": "display_data",
          "data": {
            "image/png": "[encoded data removed]",
            "text/plain": [
              "<Figure size 432x288 with 1 Axes>"
            ]
          },
          "metadata": {
            "tags": []
          }
        },
        {
          "output_type": "display_data",
          "data": {
            "image/png": "[encoded data removed]",
            "text/plain": [
              "<Figure size 432x288 with 1 Axes>"
            ]
          },
          "metadata": {
            "tags": []
          }
        },
        {
          "output_type": "display_data",
          "data": {
            "image/png": "[encoded data removed]",
            "text/plain": [
              "<Figure size 432x288 with 1 Axes>"
            ]
          },
          "metadata": {
            "tags": []
          }
        }
      ]
    },
    {
      "cell_type": "markdown",
      "metadata": {
        "id": "qEEtylouV1z2",
        "colab_type": "text"
      },
      "source": [
        "The features affect each model differently. However, MMSE seems to be the most important for each. \n",
        "Let's re-train the models, using only features with permutation importance > 0, then compare their new cross val scores. "
      ]
    },
    {
      "cell_type": "code",
      "metadata": {
        "id": "-NDyFgIebu8W",
        "colab_type": "code",
        "colab": {}
      },
      "source": [
        "cols={} #a dictionary that will contain the model names as keys, and important features as a list for that key\n",
        "for model in models:\n",
        "  model_name = type(model).__name__\n",
        "  model.fit(X_train_processed, y_train_processed)\n",
        "  r = permutation_importance(model, X_test_processed, y_test_processed,\n",
        "                           n_repeats=30,\n",
        "                           random_state=0)\n",
        "  key=model_name\n",
        "  cols.setdefault(key,[])\n",
        "  for i in r.importances_mean.argsort()[::-1]:\n",
        "    if r.importances_mean[i] > 0:\n",
        "      cols[key].append(X_test_processed.columns[i])\n"
      ],
      "execution_count": 308,
      "outputs": []
    },
    {
      "cell_type": "code",
      "metadata": {
        "id": "ONg2FZnmeGeZ",
        "colab_type": "code",
        "colab": {
          "base_uri": "https://localhost:8080/",
          "height": 102
        },
        "outputId": "f146c962-7e9d-4c2d-aabb-94571ff78101"
      },
      "source": [
        "cols"
      ],
      "execution_count": 309,
      "outputs": [
        {
          "output_type": "execute_result",
          "data": {
            "text/plain": [
              "{'BernoulliNB': ['MMSE', 'nWBV'],\n",
              " 'LogisticRegression': ['MMSE', 'nWBV', 'Educ', 'Age', 'M', 'F'],\n",
              " 'RandomForestClassifier': ['MMSE', 'Age', 'SES'],\n",
              " 'SVC': ['MMSE', 'nWBV', 'M', 'F'],\n",
              " 'XGBClassifier': ['MMSE', 'SES', 'F']}"
            ]
          },
          "metadata": {
            "tags": []
          },
          "execution_count": 309
        }
      ]
    },
    {
      "cell_type": "code",
      "metadata": {
        "id": "XDM4fwaDeI_1",
        "colab_type": "code",
        "colab": {
          "base_uri": "https://localhost:8080/",
          "height": 1000
        },
        "outputId": "de5f5699-9545-4150-e292-2ef9be9c1c31"
      },
      "source": [
        "for model in models:\n",
        "  model_name = type(model).__name__\n",
        "  imp_cols=cols[model_name]\n",
        "\n",
        "  score = cross_val_score(model, X_train_processed[imp_cols], y_train_processed, scoring='f1_weighted')\n",
        "  model_name = type(model).__name__\n",
        "\n",
        "  conf_matrix(model, X_train_processed[imp_cols], y_train_processed, X_test_processed[imp_cols], y_test_processed)\n",
        "  print('Model: {:<25} Average score and std dev across 5 folds {:0.2}(+/{:0.2})'.format(model_name, score.mean(), score.std()))"
      ],
      "execution_count": 310,
      "outputs": [
        {
          "output_type": "stream",
          "text": [
            "Model: RandomForestClassifier    Precision: 0.7        Recall: 0.62       F1 on Test Set: 0.63      \n",
            "Model: RandomForestClassifier    Average score and std dev across 5 folds 0.69(+/0.088)\n",
            "Model: LogisticRegression        Precision: 0.78       Recall: 0.72       F1 on Test Set: 0.72      \n",
            "Model: LogisticRegression        Average score and std dev across 5 folds 0.72(+/0.048)\n",
            "Model: XGBClassifier             Precision: 0.73       Recall: 0.66       F1 on Test Set: 0.66      \n",
            "Model: XGBClassifier             Average score and std dev across 5 folds 0.7(+/0.072)\n",
            "Model: BernoulliNB               Precision: 0.74       Recall: 0.7        F1 on Test Set: 0.64      \n",
            "Model: BernoulliNB               Average score and std dev across 5 folds 0.65(+/0.041)\n",
            "Model: SVC                       Precision: 0.76       Recall: 0.7        F1 on Test Set: 0.7       \n",
            "Model: SVC                       Average score and std dev across 5 folds 0.72(+/0.049)\n"
          ],
          "name": "stdout"
        },
        {
          "output_type": "display_data",
          "data": {
            "image/png": "[encoded data removed]",
            "text/plain": [
              "<Figure size 432x288 with 2 Axes>"
            ]
          },
          "metadata": {
            "tags": []
          }
        },
        {
          "output_type": "display_data",
          "data": {
            "image/png": "[encoded data removed]",
            "text/plain": [
              "<Figure size 432x288 with 2 Axes>"
            ]
          },
          "metadata": {
            "tags": []
          }
        },
        {
          "output_type": "display_data",
          "data": {
            "image/png": "[encoded data removed]",
            "text/plain": [
              "<Figure size 432x288 with 2 Axes>"
            ]
          },
          "metadata": {
            "tags": []
          }
        },
        {
          "output_type": "display_data",
          "data": {
            "image/png": "[encoded data removed]",
            "text/plain": [
              "<Figure size 432x288 with 2 Axes>"
            ]
          },
          "metadata": {
            "tags": []
          }
        },
        {
          "output_type": "display_data",
          "data": {
            "image/png": "[encoded data removed]",
            "text/plain": [
              "<Figure size 432x288 with 2 Axes>"
            ]
          },
          "metadata": {
            "tags": []
          }
        }
      ]
    },
    {
      "cell_type": "markdown",
      "metadata": {
        "id": "cS1J2ou-iVRr",
        "colab_type": "text"
      },
      "source": [
        "Dropping the less important features doesn't appear to have improved model performance. \n"
      ]
    },
    {
      "cell_type": "code",
      "metadata": {
        "id": "8CTw2X3Zl1YL",
        "colab_type": "code",
        "colab": {
          "base_uri": "https://localhost:8080/",
          "height": 296
        },
        "outputId": "7eef0e81-5bb5-4a32-af36-6a46debebcad"
      },
      "source": [
        "#let's revisit the nWBV and Age relationship\n",
        "sns.scatterplot(x=X_train['nWBV'], y=X_train['Age'])"
      ],
      "execution_count": 311,
      "outputs": [
        {
          "output_type": "execute_result",
          "data": {
            "text/plain": [
              "<matplotlib.axes._subplots.AxesSubplot at 0x7fd4e81b8e80>"
            ]
          },
          "metadata": {
            "tags": []
          },
          "execution_count": 311
        },
        {
          "output_type": "display_data",
          "data": {
            "image/png": "[encoded data removed]",
            "text/plain": [
              "<Figure size 432x288 with 1 Axes>"
            ]
          },
          "metadata": {
            "tags": []
          }
        }
      ]
    },
    {
      "cell_type": "code",
      "metadata": {
        "id": "7Le1rgBll5o3",
        "colab_type": "code",
        "colab": {
          "base_uri": "https://localhost:8080/",
          "height": 34
        },
        "outputId": "12c8ef33-f963-4c5f-e2ca-120152a1775c"
      },
      "source": [
        "from scipy.stats import pearsonr\n",
        "\n",
        "corr, _ = pearsonr(X_train['nWBV'], X_train['Age'])\n",
        "print('Pearsons correlation: %.3f' % corr)"
      ],
      "execution_count": 312,
      "outputs": [
        {
          "output_type": "stream",
          "text": [
            "Pearsons correlation: -0.718\n"
          ],
          "name": "stdout"
        }
      ]
    },
    {
      "cell_type": "markdown",
      "metadata": {
        "id": "WLn3p7fBoz8h",
        "colab_type": "text"
      },
      "source": [
        "Since Age and nWBV are pretty strongly negatively correlated, maybe removing one of them will improve cross validation scores if overfitting was a problem. "
      ]
    },
    {
      "cell_type": "code",
      "metadata": {
        "id": "6ZlCjJ98qJGw",
        "colab_type": "code",
        "colab": {
          "base_uri": "https://localhost:8080/",
          "height": 54
        },
        "outputId": "9151eb4e-0edb-4854-9f3a-75b5a185a66a"
      },
      "source": [
        "#modify cols dictionary to get rid of Age\n",
        "cols_mod=cols.copy()\n",
        "for key, item in cols_mod.items(): \n",
        "  if 'Age' in item:\n",
        "    item.remove('Age')\n",
        "print(cols_mod)"
      ],
      "execution_count": 313,
      "outputs": [
        {
          "output_type": "stream",
          "text": [
            "{'RandomForestClassifier': ['MMSE', 'SES'], 'LogisticRegression': ['MMSE', 'nWBV', 'Educ', 'M', 'F'], 'XGBClassifier': ['MMSE', 'SES', 'F'], 'BernoulliNB': ['MMSE', 'nWBV'], 'SVC': ['MMSE', 'nWBV', 'M', 'F']}\n"
          ],
          "name": "stdout"
        }
      ]
    },
    {
      "cell_type": "code",
      "metadata": {
        "id": "9klqg96Fmit7",
        "colab_type": "code",
        "colab": {
          "base_uri": "https://localhost:8080/",
          "height": 1000
        },
        "outputId": "3940dad8-884f-4641-a2df-a13d5b051bd7"
      },
      "source": [
        "for model in models:\n",
        "  model_name = type(model).__name__\n",
        "  imp_cols=cols_mod[model_name]\n",
        "\n",
        "  score = cross_val_score(model, X_train_processed[imp_cols], y_train_processed, scoring='f1_weighted')\n",
        "  model_name = type(model).__name__\n",
        "  conf_matrix(model, X_train_processed[imp_cols], y_train_processed, X_test_processed[imp_cols], y_test_processed)\n",
        "  print('Model: {:<25} Average score and std dev across 5 folds {:0.2}(+/{:0.2})'.format(model_name, score.mean(), score.std()))"
      ],
      "execution_count": 314,
      "outputs": [
        {
          "output_type": "stream",
          "text": [
            "Model: RandomForestClassifier    Precision: 0.73       Recall: 0.66       F1 on Test Set: 0.66      \n",
            "Model: RandomForestClassifier    Average score and std dev across 5 folds 0.65(+/0.054)\n",
            "Model: LogisticRegression        Precision: 0.78       Recall: 0.72       F1 on Test Set: 0.72      \n",
            "Model: LogisticRegression        Average score and std dev across 5 folds 0.71(+/0.043)\n",
            "Model: XGBClassifier             Precision: 0.73       Recall: 0.66       F1 on Test Set: 0.66      \n",
            "Model: XGBClassifier             Average score and std dev across 5 folds 0.7(+/0.072)\n",
            "Model: BernoulliNB               Precision: 0.74       Recall: 0.7        F1 on Test Set: 0.64      \n",
            "Model: BernoulliNB               Average score and std dev across 5 folds 0.65(+/0.041)\n",
            "Model: SVC                       Precision: 0.76       Recall: 0.7        F1 on Test Set: 0.7       \n",
            "Model: SVC                       Average score and std dev across 5 folds 0.72(+/0.049)\n"
          ],
          "name": "stdout"
        },
        {
          "output_type": "display_data",
          "data": {
            "image/png": "[encoded data removed]",
            "text/plain": [
              "<Figure size 432x288 with 2 Axes>"
            ]
          },
          "metadata": {
            "tags": []
          }
        },
        {
          "output_type": "display_data",
          "data": {
            "image/png": "[encoded data removed]",
            "text/plain": [
              "<Figure size 432x288 with 2 Axes>"
            ]
          },
          "metadata": {
            "tags": []
          }
        },
        {
          "output_type": "display_data",
          "data": {
            "image/png": "[encoded data removed]",
            "text/plain": [
              "<Figure size 432x288 with 2 Axes>"
            ]
          },
          "metadata": {
            "tags": []
          }
        },
        {
          "output_type": "display_data",
          "data": {
            "image/png": "[encoded data removed]",
            "text/plain": [
              "<Figure size 432x288 with 2 Axes>"
            ]
          },
          "metadata": {
            "tags": []
          }
        },
        {
          "output_type": "display_data",
          "data": {
            "image/png": "[encoded data removed]",
            "text/plain": [
              "<Figure size 432x288 with 2 Axes>"
            ]
          },
          "metadata": {
            "tags": []
          }
        }
      ]
    },
    {
      "cell_type": "markdown",
      "metadata": {
        "id": "yc_0U_mPsTGv",
        "colab_type": "text"
      },
      "source": [
        "Again there is not much change in the performance of the models. Since they are all performing at similar levels, we'll try and tune the hyperparameters of a couple to see if we can improve the score any more. "
      ]
    },
    {
      "cell_type": "markdown",
      "metadata": {
        "id": "ZTgQjhQst8Jg",
        "colab_type": "text"
      },
      "source": [
        "#Tuning hyperparameters\n"
      ]
    },
    {
      "cell_type": "markdown",
      "metadata": {
        "id": "n2c1EORKuDQU",
        "colab_type": "text"
      },
      "source": [
        "SVC and logistic regression classifiers have given the highest precision and recall scores. We will try to tune their hyperparameters in order to further improve performance. "
      ]
    },
    {
      "cell_type": "code",
      "metadata": {
        "id": "uTAxBZOEOpd_",
        "colab_type": "code",
        "colab": {
          "base_uri": "https://localhost:8080/",
          "height": 34
        },
        "outputId": "49fa6b9c-cd13-43d5-dd3c-4052ba9a9cde"
      },
      "source": [
        "#logistic regression had the best precision and recall when only using most important features and without \"Age\", so we will try that with the C value found in GridSearch\n",
        "logistic_cols= cols[type(logistic_df).__name__]\n",
        "logistic_cols"
      ],
      "execution_count": 315,
      "outputs": [
        {
          "output_type": "execute_result",
          "data": {
            "text/plain": [
              "['MMSE', 'nWBV', 'Educ', 'M', 'F']"
            ]
          },
          "metadata": {
            "tags": []
          },
          "execution_count": 315
        }
      ]
    },
    {
      "cell_type": "code",
      "metadata": {
        "id": "Cq8eGweLrcrY",
        "colab_type": "code",
        "colab": {
          "base_uri": "https://localhost:8080/",
          "height": 306
        },
        "outputId": "3f13c246-5d8d-4be8-fdcd-e10d822a5664"
      },
      "source": [
        "from sklearn.model_selection import GridSearchCV\n",
        "\n",
        "lr_base = LogisticRegression(solver='newton-cg', multi_class='multinomial')\n",
        "lr_params = {'C': [0.001,.009,0.01,.09,1,5,10,15,25,30]} #we will try to determine what the best value for regularization parameter is\n",
        "\n",
        "lr_gs = GridSearchCV(lr_base, lr_params, cv=2, verbose=2, n_jobs=-1)\n",
        "lr_gs.fit(X_train_processed[logistic_cols], y_train_processed)"
      ],
      "execution_count": 316,
      "outputs": [
        {
          "output_type": "stream",
          "text": [
            "Fitting 2 folds for each of 10 candidates, totalling 20 fits\n"
          ],
          "name": "stdout"
        },
        {
          "output_type": "stream",
          "text": [
            "[Parallel(n_jobs=-1)]: Using backend LokyBackend with 2 concurrent workers.\n",
            "[Parallel(n_jobs=-1)]: Done  20 out of  20 | elapsed:    1.3s finished\n"
          ],
          "name": "stderr"
        },
        {
          "output_type": "execute_result",
          "data": {
            "text/plain": [
              "GridSearchCV(cv=2, error_score=nan,\n",
              "             estimator=LogisticRegression(C=1.0, class_weight=None, dual=False,\n",
              "                                          fit_intercept=True,\n",
              "                                          intercept_scaling=1, l1_ratio=None,\n",
              "                                          max_iter=100,\n",
              "                                          multi_class='multinomial',\n",
              "                                          n_jobs=None, penalty='l2',\n",
              "                                          random_state=None, solver='newton-cg',\n",
              "                                          tol=0.0001, verbose=0,\n",
              "                                          warm_start=False),\n",
              "             iid='deprecated', n_jobs=-1,\n",
              "             param_grid={'C': [0.001, 0.009, 0.01, 0.09, 1, 5, 10, 15, 25, 30]},\n",
              "             pre_dispatch='2*n_jobs', refit=True, return_train_score=False,\n",
              "             scoring=None, verbose=2)"
            ]
          },
          "metadata": {
            "tags": []
          },
          "execution_count": 316
        }
      ]
    },
    {
      "cell_type": "code",
      "metadata": {
        "id": "juMkVLwONm8s",
        "colab_type": "code",
        "colab": {
          "base_uri": "https://localhost:8080/",
          "height": 102
        },
        "outputId": "76f6f8fa-b6d8-405e-a5af-5ad4031ca5fc"
      },
      "source": [
        "lr_gs.best_estimator_"
      ],
      "execution_count": 317,
      "outputs": [
        {
          "output_type": "execute_result",
          "data": {
            "text/plain": [
              "LogisticRegression(C=5, class_weight=None, dual=False, fit_intercept=True,\n",
              "                   intercept_scaling=1, l1_ratio=None, max_iter=100,\n",
              "                   multi_class='multinomial', n_jobs=None, penalty='l2',\n",
              "                   random_state=None, solver='newton-cg', tol=0.0001, verbose=0,\n",
              "                   warm_start=False)"
            ]
          },
          "metadata": {
            "tags": []
          },
          "execution_count": 317
        }
      ]
    },
    {
      "cell_type": "code",
      "metadata": {
        "id": "hoEyNXvtN1xC",
        "colab_type": "code",
        "colab": {
          "base_uri": "https://localhost:8080/",
          "height": 329
        },
        "outputId": "fa432df2-0ace-4f4d-b58a-83c7c988b94b"
      },
      "source": [
        "lr_score = cross_val_score(lr_gs.best_estimator_, X_train_processed[logistic_cols], y_train_processed, scoring='f1_weighted')\n",
        "conf_matrix(lr_gs.best_estimator_, X_train_processed[logistic_cols], y_train_processed, X_test_processed[logistic_cols], y_test_processed)\n",
        "print('Model: {:<25} Average score and std dev across 5 folds {:0.2}(+/{:0.2})'.format('LogisticRegression', lr_score.mean(), lr_score.std()))"
      ],
      "execution_count": 318,
      "outputs": [
        {
          "output_type": "stream",
          "text": [
            "Model: LogisticRegression        Precision: 0.76       Recall: 0.7        F1 on Test Set: 0.7       \n",
            "Model: LogisticRegression        Average score and std dev across 5 folds 0.72(+/0.054)\n"
          ],
          "name": "stdout"
        },
        {
          "output_type": "display_data",
          "data": {
            "image/png": "[encoded data removed]",
            "text/plain": [
              "<Figure size 432x288 with 2 Axes>"
            ]
          },
          "metadata": {
            "tags": []
          }
        }
      ]
    },
    {
      "cell_type": "markdown",
      "metadata": {
        "id": "NtAENq3wQrX2",
        "colab_type": "text"
      },
      "source": [
        "Weighted F1 is the same as when originally run, but individual precision and recall scores went down slightly. "
      ]
    },
    {
      "cell_type": "markdown",
      "metadata": {
        "id": "jhmGg8m3Q0rv",
        "colab_type": "text"
      },
      "source": [
        "Now we will try tuning the SVC model.\n"
      ]
    },
    {
      "cell_type": "code",
      "metadata": {
        "id": "OMDdTFC_OSy6",
        "colab_type": "code",
        "colab": {
          "base_uri": "https://localhost:8080/",
          "height": 272
        },
        "outputId": "fa1bb4f7-be75-41e8-9568-13f7cb69b77c"
      },
      "source": [
        "svc_cols= cols_mod[type(svc_df).__name__]\n",
        "svc_base = SVC(kernel='linear')\n",
        "svc_params = {'C': [0.0001, 0.0009, 0.001,.009,0.01,.09,1,5,10,25]} #we will try to determine what the best value for regularization parameter is\n",
        "\n",
        "svc_gs = GridSearchCV(svc_base, svc_params, cv=2, verbose=2, n_jobs=-1)\n",
        "svc_gs.fit(X_train_processed[svc_cols], y_train_processed)"
      ],
      "execution_count": 319,
      "outputs": [
        {
          "output_type": "stream",
          "text": [
            "Fitting 2 folds for each of 10 candidates, totalling 20 fits\n"
          ],
          "name": "stdout"
        },
        {
          "output_type": "stream",
          "text": [
            "[Parallel(n_jobs=-1)]: Using backend LokyBackend with 2 concurrent workers.\n",
            "[Parallel(n_jobs=-1)]: Done  20 out of  20 | elapsed:    0.1s finished\n"
          ],
          "name": "stderr"
        },
        {
          "output_type": "execute_result",
          "data": {
            "text/plain": [
              "GridSearchCV(cv=2, error_score=nan,\n",
              "             estimator=SVC(C=1.0, break_ties=False, cache_size=200,\n",
              "                           class_weight=None, coef0=0.0,\n",
              "                           decision_function_shape='ovr', degree=3,\n",
              "                           gamma='scale', kernel='linear', max_iter=-1,\n",
              "                           probability=False, random_state=None, shrinking=True,\n",
              "                           tol=0.001, verbose=False),\n",
              "             iid='deprecated', n_jobs=-1,\n",
              "             param_grid={'C': [0.0001, 0.0009, 0.001, 0.009, 0.01, 0.09, 1, 5,\n",
              "                               10, 25]},\n",
              "             pre_dispatch='2*n_jobs', refit=True, return_train_score=False,\n",
              "             scoring=None, verbose=2)"
            ]
          },
          "metadata": {
            "tags": []
          },
          "execution_count": 319
        }
      ]
    },
    {
      "cell_type": "code",
      "metadata": {
        "id": "cKEwSCMS0AAk",
        "colab_type": "code",
        "colab": {
          "base_uri": "https://localhost:8080/",
          "height": 85
        },
        "outputId": "96cc5cba-4fe7-4ad9-efa0-b030ab3bdc98"
      },
      "source": [
        "svc_gs.best_estimator_"
      ],
      "execution_count": 320,
      "outputs": [
        {
          "output_type": "execute_result",
          "data": {
            "text/plain": [
              "SVC(C=1, break_ties=False, cache_size=200, class_weight=None, coef0=0.0,\n",
              "    decision_function_shape='ovr', degree=3, gamma='scale', kernel='linear',\n",
              "    max_iter=-1, probability=False, random_state=None, shrinking=True,\n",
              "    tol=0.001, verbose=False)"
            ]
          },
          "metadata": {
            "tags": []
          },
          "execution_count": 320
        }
      ]
    },
    {
      "cell_type": "markdown",
      "metadata": {
        "id": "6czXw2z4v1Rk",
        "colab_type": "text"
      },
      "source": [
        "The best C parameter is 1, the default, so the score won't be affected. "
      ]
    },
    {
      "cell_type": "markdown",
      "metadata": {
        "id": "hCL6_7sUweUL",
        "colab_type": "text"
      },
      "source": [
        "Both Logistic Regression and SVC give similar performance on this dataset, and give the highest weighted F1 scores of 0.7."
      ]
    }
  ]
}